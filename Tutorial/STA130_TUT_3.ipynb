{
 "cells": [
  {
   "attachments": {},
   "cell_type": "markdown",
   "id": "e046f0a2",
   "metadata": {
    "slideshow": {
     "slide_type": "slide"
    }
   },
   "source": [
    "# STA130 Tutorial 3 (with \\<Your Favorite TA\\>): <br>Data Visualization\n",
    "\n",
    "![](images/Normal_Distribution.png)    \n",
    "Illustration credit: Allison Horst"
   ]
  },
  {
   "attachments": {},
   "cell_type": "markdown",
   "id": "12b3fbbe",
   "metadata": {
    "slideshow": {
     "slide_type": "slide"
    }
   },
   "source": [
    "# Describing Distributions (15 mins)\n",
    "## (First Order) Distributional Characteristics: Center/Location Statistics\n",
    "- Median: the 50th percentile of the data\n",
    "- Mean: the average value in the data\n",
    "- Mode: the most frequent data value\n"
   ]
  },
  {
   "attachments": {},
   "cell_type": "markdown",
   "id": "b42a9737",
   "metadata": {
    "slideshow": {
     "slide_type": "subslide"
    }
   },
   "source": [
    "## (Second Order) Distributional Characteristics: Spread/Scale Statistics\n",
    "- Interquartile Range (IQR): 75th percentile - 25th percentile\n",
    "- Range: maximum - minimum\n",
    "- Variance: (almost) average squared distance from the mean $$ s^2 = \\frac{1}{n-1}\\displaystyle\\sum_{i=0}^{n-1} (x_i - \\bar x)^2$$\n",
    "- Standard Deviation: square root of the variance (more interpretable, since same units) $$ s = \\sqrt{s^2} $$"
   ]
  },
  {
   "attachments": {},
   "cell_type": "markdown",
   "id": "29151e9d",
   "metadata": {
    "slideshow": {
     "slide_type": "subslide"
    }
   },
   "source": [
    "## (Higher Order) Distributional Characteristics: Skewness + Modality\n",
    "|||\n",
    "|-|-|\n",
    "|![](images/skew_modality.png)|![](images/skew_modality2.png)|\n"
   ]
  },
  {
   "attachments": {},
   "cell_type": "markdown",
   "id": "62569c9d",
   "metadata": {
    "slideshow": {
     "slide_type": "subslide"
    }
   },
   "source": [
    "![](images/skew.JPG)"
   ]
  },
  {
   "attachments": {},
   "cell_type": "markdown",
   "id": "7c043b56",
   "metadata": {
    "slideshow": {
     "slide_type": "slide"
    }
   },
   "source": [
    "# Quiz (15 mins)\n",
    "\n",
    "0. What is your name?\n",
    "1. Consider the following distribution characteristics: mean, median, mode, range, IQR, modality, skewness, outliers. Which ones can be easily observed/estimated from a boxplot? What about a histogram?  <!-- Boxplot: median, IQR, range, outliers; Histogram: mode, range, modality, skewness -->\n",
    "2. What does it mean for a distribution to be thin-tailed vs. heavy-tailed? <!-- the number of oberservations/points that fall within the tails of the histogram -->\n",
    "3. What type of data is typically visualized using a histogram? <!-- continuous numerical data -->\n",
    "4. If the distribution is left-skewed, how does the median compare to the mean?  <!-- the median is greater than the mean -->\n",
    "5. What parameter is used to set the number of bins in a Plotly histogram? <!-- nbins -->\n",
    "6. What does the following code do?\n",
    "\n",
    "```python \n",
    "group_labels = ['Height']\n",
    "fig = ff.create_distplot([amazonbooks.Height.dropna().values.tolist()], group_labels)\n",
    "fig.show()\n",
    "```\n",
    "<!-- creates a kernel density estimation of the 'height' variable -->\n",
    "7. Write `plotly` code that creates a single boxplot for `df` that plots the distribution of `variable`. \n",
    "<!-- fig = px.box(df, x=\"variable\")\n",
    "fig.show()\n",
    "-->"
   ]
  },
  {
   "attachments": {},
   "cell_type": "markdown",
   "id": "89eb3a61",
   "metadata": {
    "slideshow": {
     "slide_type": "subslide"
    }
   },
   "source": [
    "# Discussion (15-20 mins)\n",
    "- Review the quiz and address any open questions or concerns"
   ]
  },
  {
   "attachments": {},
   "cell_type": "markdown",
   "id": "2d33698d",
   "metadata": {
    "slideshow": {
     "slide_type": "slide"
    }
   },
   "source": [
    "# Discussion  (20 mins) \n",
    "\n",
    "- *Break into groups of 4*\n",
    "\n",
    "You've learned about the different types of variables and techniques for visualizing and describing the distribution of variables. The `coffee_ratings.csv` dataset contains information about various samples of coffee and their ratings. On the next slide, there are four plots that describe variables in this dataset.\n",
    "\n",
    "- What type of variable is displayed in the plot?\n",
    "- What type of plot is used to visualize the variable?\n",
    "- Which plots are appropriate for which types of variables?\n",
    "- What features of the variable can you see from the plot?\n",
    "- The upper two graphs plot the same relationship. Which one you like better? Why?"
   ]
  },
  {
   "attachments": {},
   "cell_type": "markdown",
   "id": "377cb34b",
   "metadata": {
    "slideshow": {
     "slide_type": "subslide"
    }
   },
   "source": [
    "![](images/coffee_plots.JPG)"
   ]
  },
  {
   "attachments": {},
   "cell_type": "markdown",
   "id": "48f3bcee",
   "metadata": {
    "slideshow": {
     "slide_type": "slide"
    }
   },
   "source": [
    "# Hedging (10 mins)\n",
    "Hedging is helpful whenever you can’t say something is 100% one way or another, as is often the case.\n",
    "In statistics, hedging should always be used with respect to the limitations of data and the strength and\n",
    "generalizability of the conclusions.\n",
    "\n",
    "Play this video for students: [https://web.microsoftstream.com/video/22f20d20-f096-4934-bfb4-86c0caf9da85](https://web.microsoftstream.com/video/22f20d20-f096-4934-bfb4-86c0caf9da85)"
   ]
  },
  {
   "attachments": {},
   "cell_type": "markdown",
   "id": "dd2860c1",
   "metadata": {
    "slideshow": {
     "slide_type": "slide"
    }
   },
   "source": [
    "# Tutorial Exercise (20-25 mins)\n",
    "\n",
    "Pretend that you are on the phone with your friend, and you want to share some of the cool new data visualization techniques that you have been learning in STA130. Use `plotly` to constuct 1-2 plots from the `coffee_ratings.csv` dataset and prepare a small paragraph on how you would describe the graph(s) to your friend (keeping in mind that they cannot see the graph). It is important to keep in mind that the person you are talking to has not taken STA130, therefore they will not be as familiar with the statistical vocabulary as you are. Therefore, make sure you explain any terms you use in plain language.\n",
    "- Do not include any code in your written submission.\n",
    "- Include your code in a `.ipynb` notebook along with your written submission.\n",
    "    - Annotate your notebook with comments where it's helpful for understanding what you are doing."
   ]
  },
  {
   "attachments": {},
   "cell_type": "markdown",
   "id": "51153b4f",
   "metadata": {
    "slideshow": {
     "slide_type": "subslide"
    }
   },
   "source": [
    "## When describing a figure, it is important to:\n",
    "- Describe the data source\n",
    "- State the type of graph\n",
    "- Identify what are on the x- and y-axes (if appropriate)\n",
    "- Describe the distribution\n",
    "- Make note of potential outliers\n",
    "\n",
    "Make sure you include some of the following: where the data is centered (approximate values if available), spread (relative to what?), shape (symmetric, left-skewed, right-skewed), distribution tails (heavy-tailed, thin-tailed), modality (how many?, where?), outliers/extreme values, frequency. Use hedging to acknowledge the limitations of the data."
   ]
  },
  {
   "attachments": {},
   "cell_type": "markdown",
   "id": "a3d8c362",
   "metadata": {
    "slideshow": {
     "slide_type": "subslide"
    }
   },
   "source": [
    "### Notes on approaching the writing prompt\n",
    "\n",
    "- Hand in the assignment on Quercus\n",
    "- Use full sentences\n",
    "- Grammar is *not* the main focus of the assessment, but it is important that you communicate in a clear and professional manner (without slang or emojis) \n",
    "- Aim for 200 - 500 words\n",
    "- Do not spend more than 90 minutes on the prompt (unless you really need to...)"
   ]
  }
 ],
 "metadata": {
  "celltoolbar": "Slideshow",
  "kernelspec": {
   "display_name": "Python 3 (ipykernel)",
   "language": "python",
   "name": "python3"
  },
  "language_info": {
   "codemirror_mode": {
    "name": "ipython",
    "version": 3
   },
   "file_extension": ".py",
   "mimetype": "text/x-python",
   "name": "python",
   "nbconvert_exporter": "python",
   "pygments_lexer": "ipython3",
   "version": "3.10.8"
  }
 },
 "nbformat": 4,
 "nbformat_minor": 5
}
