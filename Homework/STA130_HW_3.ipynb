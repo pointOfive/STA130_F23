{
 "cells": [
  {
   "cell_type": "markdown",
   "id": "4b0afc16",
   "metadata": {},
   "source": [
    "# Coding Homework 3: [Your Name]\n",
    "\n",
    "The Super Bowl is the annual championship game of the National Football League (NFL) in the United States, drawing massive viewership and having major cultural significance. Data about the commercials shown during past Super Bowls are available in the \"superbowl_ads.csv\" file.\n",
    "> This data was posted on [github](https://github.com/fivethirtyeight/superbowl-ads#super-bowl-ads) by the data-oriented reporting outlet [FiveThirtyEight](https://github.com/fivethirtyeight) and subsequently featured on [Tidy Tuesday](https://github.com/rfordatascience/tidytuesday/blob/master/data/2021/2021-03-02/readme.md).  For more information see the above links.\n",
    "\n",
    "> TAs will mark this assignment by checking ***MarkUs*** autotests; then, manually confirming the correctness of plots in `Q4` and `Q10`; then, manually reviewing the written responses to question `Q17`. TAs may or may not spot check the presense of plots and written answers for `Q13`, `Q14`, `Q15`, and `Q18`."
   ]
  },
  {
   "cell_type": "code",
   "execution_count": 1,
   "id": "b3fce169",
   "metadata": {},
   "outputs": [],
   "source": [
    "# Import/Load the \"superbowl_ads.csv\" data"
   ]
  },
  {
   "cell_type": "code",
   "execution_count": null,
   "id": "5c9a45a1",
   "metadata": {},
   "outputs": [],
   "source": []
  },
  {
   "cell_type": "code",
   "execution_count": 3,
   "id": "43efb378",
   "metadata": {},
   "outputs": [],
   "source": []
  },
  {
   "cell_type": "code",
   "execution_count": null,
   "id": "7749bfc5",
   "metadata": {},
   "outputs": [],
   "source": []
  },
  {
   "cell_type": "markdown",
   "id": "6252ad14",
   "metadata": {},
   "source": [
    "## Refining Numerical and Categorical Variables\n",
    "\n",
    "The notion of numeric data types versus non-numeric data types, like numbers versus words, should be fairly intuitive to you.  And therefore, the distinction between numeric and categorical variables should hopefully also be fairly clear as well.  Actually, for technical clarity and communication, it can sometimes be beneficial to break down variables into even finer categories.\n",
    "\n",
    "- Note that categorical/qualitative data types can be encoded as numerical values. E.g., **ordinal** values could reported as integer scores \"1, 2, 3, 4, 5, etc.\", and so could **nominal** values as long as we remember that the numeric order doesn't matter.  **Binary** variables are a simple example since they could be recorded as either $0$ or $1$. An easy example of a **binary variables** is a **logical/boolean** value like how `python` has `True` and `False` values.  In the case of **logical/boolean** values it is standard to coerce `False` to $0$ and `True` to $1$ whenever actual numeric values are required in place of **logical/boolean** values."
   ]
  },
  {
   "cell_type": "markdown",
   "id": "3d532ff3",
   "metadata": {},
   "source": [
    "#### Data types can further be split into subtypes, as seen in the graphic below:\n",
    "![](HW3_data_types.JPG)"
   ]
  },
  {
   "cell_type": "markdown",
   "id": "d503e867",
   "metadata": {},
   "source": [
    "### Q0: Which of these best describes the data type of the `brand` variable?\n",
    "A. Nominal Categorical      \n",
    "B. Ordinal Categorical  \n",
    "C. Continuous  \n",
    "D. Discrete  \n",
    "E. Binary/Boolean"
   ]
  },
  {
   "cell_type": "code",
   "execution_count": 1,
   "id": "c77778b1",
   "metadata": {},
   "outputs": [],
   "source": [
    "# Q0: your answer will be tested!\n",
    "Q0 = None # Assign either 'A', 'B', 'C', 'D', or 'E' to `Q0` instead of `None`\n",
    "# E.g., Q0 = 'A'"
   ]
  },
  {
   "cell_type": "markdown",
   "id": "c4a20626",
   "metadata": {},
   "source": [
    "### Q1: Which of these best describes the data type of the `view_count` variable?\n",
    "A. Nominal Categorical      \n",
    "B. Ordinal Categorical  \n",
    "C. Continuous  \n",
    "D. Discrete  \n",
    "E. Binary/Boolean"
   ]
  },
  {
   "cell_type": "code",
   "execution_count": 1,
   "id": "6b6060f8",
   "metadata": {},
   "outputs": [],
   "source": [
    "# Q1: your answer will be tested!\n",
    "Q1 = None # Assign either 'A', 'B', 'C', 'D', or 'E' to `Q1` instead of `None`\n",
    "# E.g., Q0 = 'A'"
   ]
  },
  {
   "cell_type": "markdown",
   "id": "db1f1564",
   "metadata": {},
   "source": [
    "### Q2: Which of these best describes the data type of the `funny` variable?\n",
    "A. Nominal Categorical      \n",
    "B. Ordinal Categorical  \n",
    "C. Continuous  \n",
    "D. Discrete  \n",
    "E. Binary/Boolean"
   ]
  },
  {
   "cell_type": "code",
   "execution_count": 16,
   "id": "c1670e7a",
   "metadata": {},
   "outputs": [],
   "source": [
    "# Q2: your answer will be tested!\n",
    "Q2 = None # Assign either 'A', 'B', 'C', 'D', or 'E' to `Q2` instead of `None`\n",
    "# E.g., Q2 = 'A'"
   ]
  },
  {
   "cell_type": "markdown",
   "id": "d978c39e",
   "metadata": {},
   "source": [
    "### Q3: Which of these best describes the data type of the `funny` variable?\n",
    "A. Nominal Categorical      \n",
    "B. Ordinal Categorical  \n",
    "C. Continuous  \n",
    "D. Discrete  "
   ]
  },
  {
   "cell_type": "code",
   "execution_count": 16,
   "id": "dac516f7",
   "metadata": {},
   "outputs": [],
   "source": [
    "# Q3: your answer will be tested!\n",
    "Q3 = None # Assign either 'A', 'B', 'C', or 'D' to `Q3` instead of `None`\n",
    "# E.g., Q3 = 'A'"
   ]
  },
  {
   "cell_type": "markdown",
   "id": "18d10e76",
   "metadata": {},
   "source": [
    "### Q4: Create 3 histograms to explore the distribution of `view_count`: (i) one with 2 bins, (ii) one with 4 to 8 bins, and (iii) one with about 50 bins. \n",
    "> Hint 1: Remember to import `plotly.express`!  \n",
    "> Hint 2: Googling \"plotly hisotgrams\" is the trick if you don't immediately remember how to do this\n",
    "\n",
    "- This will be manually reviewed. "
   ]
  },
  {
   "cell_type": "code",
   "execution_count": 6,
   "id": "804f9d88",
   "metadata": {},
   "outputs": [],
   "source": []
  },
  {
   "cell_type": "code",
   "execution_count": 10,
   "id": "9211f336",
   "metadata": {},
   "outputs": [],
   "source": [
    "# (i) create a histogram with 2 bins\n"
   ]
  },
  {
   "cell_type": "code",
   "execution_count": null,
   "id": "34792ae2",
   "metadata": {},
   "outputs": [],
   "source": [
    "# (ii) create a histogram with 4 to 8 bins\n"
   ]
  },
  {
   "cell_type": "code",
   "execution_count": null,
   "id": "e6188008",
   "metadata": {},
   "outputs": [],
   "source": [
    "# (iii) create a histogram with about 50 bins\n"
   ]
  },
  {
   "cell_type": "markdown",
   "id": "9c49c80e",
   "metadata": {},
   "source": [
    "> If you noticed that the solutions `px.histogram(..., x=\"view_count\", nbins=2)`, `px.histogram(..., x=\"view_count\", nbins=8)`, and `px.histogram(..., x=\"view_count\", nbins=50)` don't give the exact number of bins as is specified by the `nbins` parameter, great job!  This behavior is discussed, e.g., [here](https://community.plotly.com/t/plotly-histogram-nbinx-does-not-provide-the-right-number-of-bins-in-python/1126) and [here](https://stackoverflow.com/questions/68013490/what-is-nbins-in-plotly) which are found by googling \"plotly nbins not working\"."
   ]
  },
  {
   "cell_type": "markdown",
   "id": "7b307f31",
   "metadata": {},
   "source": [
    "### Q5: Create a boxplot of the `view_count` data using an `x=\"view_count\"` specification, then determine the 25th and 75th percentiles (also called the first and third quartiles Q1 the Q3) of the data and compute the interquartile range (IQR) to measure the spread of the middle 50% of the data\n",
    "\n",
    "#### Give your answer as a discrete integer numeric value ignoring all decimal values\n",
    "> Hint 1: Construct a boxplot of the distribution for `view_count` (https://letmegooglethat.com/?q=plotly+boxplot)   \n",
    "> Hint 2: Hover on the boxplot"
   ]
  },
  {
   "cell_type": "code",
   "execution_count": null,
   "id": "94f60cdb",
   "metadata": {},
   "outputs": [],
   "source": [
    "# create the plot in these cells\n"
   ]
  },
  {
   "cell_type": "code",
   "execution_count": null,
   "id": "5a6fe33b",
   "metadata": {},
   "outputs": [],
   "source": []
  },
  {
   "cell_type": "code",
   "execution_count": null,
   "id": "947af041",
   "metadata": {},
   "outputs": [],
   "source": [
    "# Q5: your answer will be tested!\n",
    "percentile_25 = None\n",
    "percentile_75 = None\n",
    "IQR = percentile_75 - percentile_25 \n",
    "\n",
    "Q5 = (percentile_25, percentile_75, IQR) # Assign a `tuple` of three `int`s to Q5"
   ]
  },
  {
   "cell_type": "code",
   "execution_count": 33,
   "id": "e9330bf5",
   "metadata": {},
   "outputs": [
    {
     "data": {
      "application/vnd.plotly.v1+json": {
       "config": {
        "plotlyServerURL": "https://plot.ly"
       },
       "data": [
        {
         "alignmentgroup": "True",
         "hovertemplate": "view_count=%{x}<extra></extra>",
         "legendgroup": "",
         "marker": {
          "color": "#636efa"
         },
         "name": "",
         "notched": false,
         "offsetgroup": "",
         "orientation": "h",
         "showlegend": false,
         "type": "box",
         "x": [
          173929,
          47752,
          142310,
          198,
          13741,
          23636,
          304254,
          17892,
          38385,
          782,
          68458,
          3805,
          184689,
          121400,
          865781,
          8990,
          129399,
          3739,
          72997,
          29219,
          38968,
          302143,
          36832,
          41828,
          69050,
          4302,
          77720,
          113771,
          128792,
          5049,
          85454,
          9036,
          2801,
          23327,
          50088,
          301,
          3667,
          179695,
          16399,
          669906,
          14927,
          310443,
          67182,
          97247,
          5264,
          576696,
          1171,
          49339,
          21,
          36683,
          87687,
          177497,
          350,
          40818,
          373684,
          87396,
          11074,
          41379,
          219464,
          249186,
          6713,
          38574,
          3900,
          327529,
          7621,
          156718,
          60774,
          3754,
          6641,
          788,
          10929,
          136,
          79,
          14395,
          503550,
          112297,
          907,
          14579,
          110004,
          114478,
          11608,
          487,
          4873,
          54079,
          147160,
          81952,
          1264,
          319,
          81049,
          13141,
          218329,
          13312,
          91378,
          111,
          39897,
          33766,
          88445,
          13245,
          85274,
          134186,
          25834,
          30123,
          17209,
          1874,
          546,
          598260,
          27378,
          394,
          122388,
          16997,
          555734,
          582575,
          86928,
          116294,
          3548,
          63129,
          139,
          24595,
          15776,
          55676,
          132054,
          56257,
          403641,
          176547,
          561,
          166102,
          95355,
          11311,
          48035,
          34565,
          640393,
          45799,
          1294,
          103433,
          41441,
          50850,
          232124,
          10925,
          92,
          14267,
          1460,
          67452,
          10338,
          236941,
          56,
          729583,
          236,
          65162,
          179,
          177285,
          204026,
          34440,
          6432,
          62538,
          28847,
          92878,
          10,
          5699,
          955616,
          186,
          518,
          175482,
          353513,
          2732,
          246619,
          42,
          16083,
          1361,
          120196,
          125,
          286010,
          32557,
          69440,
          6430,
          998,
          21314,
          20130,
          746836,
          9649,
          43983,
          3183,
          3183,
          3183,
          3183,
          162,
          293,
          491630,
          39730,
          21813,
          358142,
          987,
          88458,
          7253,
          81183,
          35779,
          48617,
          18670,
          385777,
          4641,
          998,
          1190,
          32091,
          111442,
          2985,
          9335,
          292010,
          12106,
          220292,
          1475,
          6513,
          77142
         ],
         "x0": " ",
         "xaxis": "x",
         "y0": " ",
         "yaxis": "y"
        }
       ],
       "layout": {
        "boxmode": "group",
        "legend": {
         "tracegroupgap": 0
        },
        "margin": {
         "t": 60
        },
        "template": {
         "data": {
          "bar": [
           {
            "error_x": {
             "color": "#2a3f5f"
            },
            "error_y": {
             "color": "#2a3f5f"
            },
            "marker": {
             "line": {
              "color": "#E5ECF6",
              "width": 0.5
             },
             "pattern": {
              "fillmode": "overlay",
              "size": 10,
              "solidity": 0.2
             }
            },
            "type": "bar"
           }
          ],
          "barpolar": [
           {
            "marker": {
             "line": {
              "color": "#E5ECF6",
              "width": 0.5
             },
             "pattern": {
              "fillmode": "overlay",
              "size": 10,
              "solidity": 0.2
             }
            },
            "type": "barpolar"
           }
          ],
          "carpet": [
           {
            "aaxis": {
             "endlinecolor": "#2a3f5f",
             "gridcolor": "white",
             "linecolor": "white",
             "minorgridcolor": "white",
             "startlinecolor": "#2a3f5f"
            },
            "baxis": {
             "endlinecolor": "#2a3f5f",
             "gridcolor": "white",
             "linecolor": "white",
             "minorgridcolor": "white",
             "startlinecolor": "#2a3f5f"
            },
            "type": "carpet"
           }
          ],
          "choropleth": [
           {
            "colorbar": {
             "outlinewidth": 0,
             "ticks": ""
            },
            "type": "choropleth"
           }
          ],
          "contour": [
           {
            "colorbar": {
             "outlinewidth": 0,
             "ticks": ""
            },
            "colorscale": [
             [
              0,
              "#0d0887"
             ],
             [
              0.1111111111111111,
              "#46039f"
             ],
             [
              0.2222222222222222,
              "#7201a8"
             ],
             [
              0.3333333333333333,
              "#9c179e"
             ],
             [
              0.4444444444444444,
              "#bd3786"
             ],
             [
              0.5555555555555556,
              "#d8576b"
             ],
             [
              0.6666666666666666,
              "#ed7953"
             ],
             [
              0.7777777777777778,
              "#fb9f3a"
             ],
             [
              0.8888888888888888,
              "#fdca26"
             ],
             [
              1,
              "#f0f921"
             ]
            ],
            "type": "contour"
           }
          ],
          "contourcarpet": [
           {
            "colorbar": {
             "outlinewidth": 0,
             "ticks": ""
            },
            "type": "contourcarpet"
           }
          ],
          "heatmap": [
           {
            "colorbar": {
             "outlinewidth": 0,
             "ticks": ""
            },
            "colorscale": [
             [
              0,
              "#0d0887"
             ],
             [
              0.1111111111111111,
              "#46039f"
             ],
             [
              0.2222222222222222,
              "#7201a8"
             ],
             [
              0.3333333333333333,
              "#9c179e"
             ],
             [
              0.4444444444444444,
              "#bd3786"
             ],
             [
              0.5555555555555556,
              "#d8576b"
             ],
             [
              0.6666666666666666,
              "#ed7953"
             ],
             [
              0.7777777777777778,
              "#fb9f3a"
             ],
             [
              0.8888888888888888,
              "#fdca26"
             ],
             [
              1,
              "#f0f921"
             ]
            ],
            "type": "heatmap"
           }
          ],
          "heatmapgl": [
           {
            "colorbar": {
             "outlinewidth": 0,
             "ticks": ""
            },
            "colorscale": [
             [
              0,
              "#0d0887"
             ],
             [
              0.1111111111111111,
              "#46039f"
             ],
             [
              0.2222222222222222,
              "#7201a8"
             ],
             [
              0.3333333333333333,
              "#9c179e"
             ],
             [
              0.4444444444444444,
              "#bd3786"
             ],
             [
              0.5555555555555556,
              "#d8576b"
             ],
             [
              0.6666666666666666,
              "#ed7953"
             ],
             [
              0.7777777777777778,
              "#fb9f3a"
             ],
             [
              0.8888888888888888,
              "#fdca26"
             ],
             [
              1,
              "#f0f921"
             ]
            ],
            "type": "heatmapgl"
           }
          ],
          "histogram": [
           {
            "marker": {
             "pattern": {
              "fillmode": "overlay",
              "size": 10,
              "solidity": 0.2
             }
            },
            "type": "histogram"
           }
          ],
          "histogram2d": [
           {
            "colorbar": {
             "outlinewidth": 0,
             "ticks": ""
            },
            "colorscale": [
             [
              0,
              "#0d0887"
             ],
             [
              0.1111111111111111,
              "#46039f"
             ],
             [
              0.2222222222222222,
              "#7201a8"
             ],
             [
              0.3333333333333333,
              "#9c179e"
             ],
             [
              0.4444444444444444,
              "#bd3786"
             ],
             [
              0.5555555555555556,
              "#d8576b"
             ],
             [
              0.6666666666666666,
              "#ed7953"
             ],
             [
              0.7777777777777778,
              "#fb9f3a"
             ],
             [
              0.8888888888888888,
              "#fdca26"
             ],
             [
              1,
              "#f0f921"
             ]
            ],
            "type": "histogram2d"
           }
          ],
          "histogram2dcontour": [
           {
            "colorbar": {
             "outlinewidth": 0,
             "ticks": ""
            },
            "colorscale": [
             [
              0,
              "#0d0887"
             ],
             [
              0.1111111111111111,
              "#46039f"
             ],
             [
              0.2222222222222222,
              "#7201a8"
             ],
             [
              0.3333333333333333,
              "#9c179e"
             ],
             [
              0.4444444444444444,
              "#bd3786"
             ],
             [
              0.5555555555555556,
              "#d8576b"
             ],
             [
              0.6666666666666666,
              "#ed7953"
             ],
             [
              0.7777777777777778,
              "#fb9f3a"
             ],
             [
              0.8888888888888888,
              "#fdca26"
             ],
             [
              1,
              "#f0f921"
             ]
            ],
            "type": "histogram2dcontour"
           }
          ],
          "mesh3d": [
           {
            "colorbar": {
             "outlinewidth": 0,
             "ticks": ""
            },
            "type": "mesh3d"
           }
          ],
          "parcoords": [
           {
            "line": {
             "colorbar": {
              "outlinewidth": 0,
              "ticks": ""
             }
            },
            "type": "parcoords"
           }
          ],
          "pie": [
           {
            "automargin": true,
            "type": "pie"
           }
          ],
          "scatter": [
           {
            "fillpattern": {
             "fillmode": "overlay",
             "size": 10,
             "solidity": 0.2
            },
            "type": "scatter"
           }
          ],
          "scatter3d": [
           {
            "line": {
             "colorbar": {
              "outlinewidth": 0,
              "ticks": ""
             }
            },
            "marker": {
             "colorbar": {
              "outlinewidth": 0,
              "ticks": ""
             }
            },
            "type": "scatter3d"
           }
          ],
          "scattercarpet": [
           {
            "marker": {
             "colorbar": {
              "outlinewidth": 0,
              "ticks": ""
             }
            },
            "type": "scattercarpet"
           }
          ],
          "scattergeo": [
           {
            "marker": {
             "colorbar": {
              "outlinewidth": 0,
              "ticks": ""
             }
            },
            "type": "scattergeo"
           }
          ],
          "scattergl": [
           {
            "marker": {
             "colorbar": {
              "outlinewidth": 0,
              "ticks": ""
             }
            },
            "type": "scattergl"
           }
          ],
          "scattermapbox": [
           {
            "marker": {
             "colorbar": {
              "outlinewidth": 0,
              "ticks": ""
             }
            },
            "type": "scattermapbox"
           }
          ],
          "scatterpolar": [
           {
            "marker": {
             "colorbar": {
              "outlinewidth": 0,
              "ticks": ""
             }
            },
            "type": "scatterpolar"
           }
          ],
          "scatterpolargl": [
           {
            "marker": {
             "colorbar": {
              "outlinewidth": 0,
              "ticks": ""
             }
            },
            "type": "scatterpolargl"
           }
          ],
          "scatterternary": [
           {
            "marker": {
             "colorbar": {
              "outlinewidth": 0,
              "ticks": ""
             }
            },
            "type": "scatterternary"
           }
          ],
          "surface": [
           {
            "colorbar": {
             "outlinewidth": 0,
             "ticks": ""
            },
            "colorscale": [
             [
              0,
              "#0d0887"
             ],
             [
              0.1111111111111111,
              "#46039f"
             ],
             [
              0.2222222222222222,
              "#7201a8"
             ],
             [
              0.3333333333333333,
              "#9c179e"
             ],
             [
              0.4444444444444444,
              "#bd3786"
             ],
             [
              0.5555555555555556,
              "#d8576b"
             ],
             [
              0.6666666666666666,
              "#ed7953"
             ],
             [
              0.7777777777777778,
              "#fb9f3a"
             ],
             [
              0.8888888888888888,
              "#fdca26"
             ],
             [
              1,
              "#f0f921"
             ]
            ],
            "type": "surface"
           }
          ],
          "table": [
           {
            "cells": {
             "fill": {
              "color": "#EBF0F8"
             },
             "line": {
              "color": "white"
             }
            },
            "header": {
             "fill": {
              "color": "#C8D4E3"
             },
             "line": {
              "color": "white"
             }
            },
            "type": "table"
           }
          ]
         },
         "layout": {
          "annotationdefaults": {
           "arrowcolor": "#2a3f5f",
           "arrowhead": 0,
           "arrowwidth": 1
          },
          "autotypenumbers": "strict",
          "coloraxis": {
           "colorbar": {
            "outlinewidth": 0,
            "ticks": ""
           }
          },
          "colorscale": {
           "diverging": [
            [
             0,
             "#8e0152"
            ],
            [
             0.1,
             "#c51b7d"
            ],
            [
             0.2,
             "#de77ae"
            ],
            [
             0.3,
             "#f1b6da"
            ],
            [
             0.4,
             "#fde0ef"
            ],
            [
             0.5,
             "#f7f7f7"
            ],
            [
             0.6,
             "#e6f5d0"
            ],
            [
             0.7,
             "#b8e186"
            ],
            [
             0.8,
             "#7fbc41"
            ],
            [
             0.9,
             "#4d9221"
            ],
            [
             1,
             "#276419"
            ]
           ],
           "sequential": [
            [
             0,
             "#0d0887"
            ],
            [
             0.1111111111111111,
             "#46039f"
            ],
            [
             0.2222222222222222,
             "#7201a8"
            ],
            [
             0.3333333333333333,
             "#9c179e"
            ],
            [
             0.4444444444444444,
             "#bd3786"
            ],
            [
             0.5555555555555556,
             "#d8576b"
            ],
            [
             0.6666666666666666,
             "#ed7953"
            ],
            [
             0.7777777777777778,
             "#fb9f3a"
            ],
            [
             0.8888888888888888,
             "#fdca26"
            ],
            [
             1,
             "#f0f921"
            ]
           ],
           "sequentialminus": [
            [
             0,
             "#0d0887"
            ],
            [
             0.1111111111111111,
             "#46039f"
            ],
            [
             0.2222222222222222,
             "#7201a8"
            ],
            [
             0.3333333333333333,
             "#9c179e"
            ],
            [
             0.4444444444444444,
             "#bd3786"
            ],
            [
             0.5555555555555556,
             "#d8576b"
            ],
            [
             0.6666666666666666,
             "#ed7953"
            ],
            [
             0.7777777777777778,
             "#fb9f3a"
            ],
            [
             0.8888888888888888,
             "#fdca26"
            ],
            [
             1,
             "#f0f921"
            ]
           ]
          },
          "colorway": [
           "#636efa",
           "#EF553B",
           "#00cc96",
           "#ab63fa",
           "#FFA15A",
           "#19d3f3",
           "#FF6692",
           "#B6E880",
           "#FF97FF",
           "#FECB52"
          ],
          "font": {
           "color": "#2a3f5f"
          },
          "geo": {
           "bgcolor": "white",
           "lakecolor": "white",
           "landcolor": "#E5ECF6",
           "showlakes": true,
           "showland": true,
           "subunitcolor": "white"
          },
          "hoverlabel": {
           "align": "left"
          },
          "hovermode": "closest",
          "mapbox": {
           "style": "light"
          },
          "paper_bgcolor": "white",
          "plot_bgcolor": "#E5ECF6",
          "polar": {
           "angularaxis": {
            "gridcolor": "white",
            "linecolor": "white",
            "ticks": ""
           },
           "bgcolor": "#E5ECF6",
           "radialaxis": {
            "gridcolor": "white",
            "linecolor": "white",
            "ticks": ""
           }
          },
          "scene": {
           "xaxis": {
            "backgroundcolor": "#E5ECF6",
            "gridcolor": "white",
            "gridwidth": 2,
            "linecolor": "white",
            "showbackground": true,
            "ticks": "",
            "zerolinecolor": "white"
           },
           "yaxis": {
            "backgroundcolor": "#E5ECF6",
            "gridcolor": "white",
            "gridwidth": 2,
            "linecolor": "white",
            "showbackground": true,
            "ticks": "",
            "zerolinecolor": "white"
           },
           "zaxis": {
            "backgroundcolor": "#E5ECF6",
            "gridcolor": "white",
            "gridwidth": 2,
            "linecolor": "white",
            "showbackground": true,
            "ticks": "",
            "zerolinecolor": "white"
           }
          },
          "shapedefaults": {
           "line": {
            "color": "#2a3f5f"
           }
          },
          "ternary": {
           "aaxis": {
            "gridcolor": "white",
            "linecolor": "white",
            "ticks": ""
           },
           "baxis": {
            "gridcolor": "white",
            "linecolor": "white",
            "ticks": ""
           },
           "bgcolor": "#E5ECF6",
           "caxis": {
            "gridcolor": "white",
            "linecolor": "white",
            "ticks": ""
           }
          },
          "title": {
           "x": 0.05
          },
          "xaxis": {
           "automargin": true,
           "gridcolor": "white",
           "linecolor": "white",
           "ticks": "",
           "title": {
            "standoff": 15
           },
           "zerolinecolor": "white",
           "zerolinewidth": 2
          },
          "yaxis": {
           "automargin": true,
           "gridcolor": "white",
           "linecolor": "white",
           "ticks": "",
           "title": {
            "standoff": 15
           },
           "zerolinecolor": "white",
           "zerolinewidth": 2
          }
         }
        },
        "xaxis": {
         "anchor": "y",
         "domain": [
          0,
          1
         ],
         "title": {
          "text": "view_count"
         }
        },
        "yaxis": {
         "anchor": "x",
         "domain": [
          0,
          1
         ]
        }
       }
      },
      "text/html": [
       "<div>                            <div id=\"d06cfd61-67fc-48f8-ba74-be80c65cb124\" class=\"plotly-graph-div\" style=\"height:525px; width:100%;\"></div>            <script type=\"text/javascript\">                require([\"plotly\"], function(Plotly) {                    window.PLOTLYENV=window.PLOTLYENV || {};                                    if (document.getElementById(\"d06cfd61-67fc-48f8-ba74-be80c65cb124\")) {                    Plotly.newPlot(                        \"d06cfd61-67fc-48f8-ba74-be80c65cb124\",                        [{\"alignmentgroup\":\"True\",\"hovertemplate\":\"view_count=%{x}<extra></extra>\",\"legendgroup\":\"\",\"marker\":{\"color\":\"#636efa\"},\"name\":\"\",\"notched\":false,\"offsetgroup\":\"\",\"orientation\":\"h\",\"showlegend\":false,\"x\":[173929,47752,142310,198,13741,23636,304254,17892,38385,782,68458,3805,184689,121400,865781,8990,129399,3739,72997,29219,38968,302143,36832,41828,69050,4302,77720,113771,128792,5049,85454,9036,2801,23327,50088,301,3667,179695,16399,669906,14927,310443,67182,97247,5264,576696,1171,49339,21,36683,87687,177497,350,40818,373684,87396,11074,41379,219464,249186,6713,38574,3900,327529,7621,156718,60774,3754,6641,788,10929,136,79,14395,503550,112297,907,14579,110004,114478,11608,487,4873,54079,147160,81952,1264,319,81049,13141,218329,13312,91378,111,39897,33766,88445,13245,85274,134186,25834,30123,17209,1874,546,598260,27378,394,122388,16997,555734,582575,86928,116294,3548,63129,139,24595,15776,55676,132054,56257,403641,176547,561,166102,95355,11311,48035,34565,640393,45799,1294,103433,41441,50850,232124,10925,92,14267,1460,67452,10338,236941,56,729583,236,65162,179,177285,204026,34440,6432,62538,28847,92878,10,5699,955616,186,518,175482,353513,2732,246619,42,16083,1361,120196,125,286010,32557,69440,6430,998,21314,20130,746836,9649,43983,3183,3183,3183,3183,162,293,491630,39730,21813,358142,987,88458,7253,81183,35779,48617,18670,385777,4641,998,1190,32091,111442,2985,9335,292010,12106,220292,1475,6513,77142],\"x0\":\" \",\"xaxis\":\"x\",\"y0\":\" \",\"yaxis\":\"y\",\"type\":\"box\"}],                        {\"template\":{\"data\":{\"histogram2dcontour\":[{\"type\":\"histogram2dcontour\",\"colorbar\":{\"outlinewidth\":0,\"ticks\":\"\"},\"colorscale\":[[0.0,\"#0d0887\"],[0.1111111111111111,\"#46039f\"],[0.2222222222222222,\"#7201a8\"],[0.3333333333333333,\"#9c179e\"],[0.4444444444444444,\"#bd3786\"],[0.5555555555555556,\"#d8576b\"],[0.6666666666666666,\"#ed7953\"],[0.7777777777777778,\"#fb9f3a\"],[0.8888888888888888,\"#fdca26\"],[1.0,\"#f0f921\"]]}],\"choropleth\":[{\"type\":\"choropleth\",\"colorbar\":{\"outlinewidth\":0,\"ticks\":\"\"}}],\"histogram2d\":[{\"type\":\"histogram2d\",\"colorbar\":{\"outlinewidth\":0,\"ticks\":\"\"},\"colorscale\":[[0.0,\"#0d0887\"],[0.1111111111111111,\"#46039f\"],[0.2222222222222222,\"#7201a8\"],[0.3333333333333333,\"#9c179e\"],[0.4444444444444444,\"#bd3786\"],[0.5555555555555556,\"#d8576b\"],[0.6666666666666666,\"#ed7953\"],[0.7777777777777778,\"#fb9f3a\"],[0.8888888888888888,\"#fdca26\"],[1.0,\"#f0f921\"]]}],\"heatmap\":[{\"type\":\"heatmap\",\"colorbar\":{\"outlinewidth\":0,\"ticks\":\"\"},\"colorscale\":[[0.0,\"#0d0887\"],[0.1111111111111111,\"#46039f\"],[0.2222222222222222,\"#7201a8\"],[0.3333333333333333,\"#9c179e\"],[0.4444444444444444,\"#bd3786\"],[0.5555555555555556,\"#d8576b\"],[0.6666666666666666,\"#ed7953\"],[0.7777777777777778,\"#fb9f3a\"],[0.8888888888888888,\"#fdca26\"],[1.0,\"#f0f921\"]]}],\"heatmapgl\":[{\"type\":\"heatmapgl\",\"colorbar\":{\"outlinewidth\":0,\"ticks\":\"\"},\"colorscale\":[[0.0,\"#0d0887\"],[0.1111111111111111,\"#46039f\"],[0.2222222222222222,\"#7201a8\"],[0.3333333333333333,\"#9c179e\"],[0.4444444444444444,\"#bd3786\"],[0.5555555555555556,\"#d8576b\"],[0.6666666666666666,\"#ed7953\"],[0.7777777777777778,\"#fb9f3a\"],[0.8888888888888888,\"#fdca26\"],[1.0,\"#f0f921\"]]}],\"contourcarpet\":[{\"type\":\"contourcarpet\",\"colorbar\":{\"outlinewidth\":0,\"ticks\":\"\"}}],\"contour\":[{\"type\":\"contour\",\"colorbar\":{\"outlinewidth\":0,\"ticks\":\"\"},\"colorscale\":[[0.0,\"#0d0887\"],[0.1111111111111111,\"#46039f\"],[0.2222222222222222,\"#7201a8\"],[0.3333333333333333,\"#9c179e\"],[0.4444444444444444,\"#bd3786\"],[0.5555555555555556,\"#d8576b\"],[0.6666666666666666,\"#ed7953\"],[0.7777777777777778,\"#fb9f3a\"],[0.8888888888888888,\"#fdca26\"],[1.0,\"#f0f921\"]]}],\"surface\":[{\"type\":\"surface\",\"colorbar\":{\"outlinewidth\":0,\"ticks\":\"\"},\"colorscale\":[[0.0,\"#0d0887\"],[0.1111111111111111,\"#46039f\"],[0.2222222222222222,\"#7201a8\"],[0.3333333333333333,\"#9c179e\"],[0.4444444444444444,\"#bd3786\"],[0.5555555555555556,\"#d8576b\"],[0.6666666666666666,\"#ed7953\"],[0.7777777777777778,\"#fb9f3a\"],[0.8888888888888888,\"#fdca26\"],[1.0,\"#f0f921\"]]}],\"mesh3d\":[{\"type\":\"mesh3d\",\"colorbar\":{\"outlinewidth\":0,\"ticks\":\"\"}}],\"scatter\":[{\"fillpattern\":{\"fillmode\":\"overlay\",\"size\":10,\"solidity\":0.2},\"type\":\"scatter\"}],\"parcoords\":[{\"type\":\"parcoords\",\"line\":{\"colorbar\":{\"outlinewidth\":0,\"ticks\":\"\"}}}],\"scatterpolargl\":[{\"type\":\"scatterpolargl\",\"marker\":{\"colorbar\":{\"outlinewidth\":0,\"ticks\":\"\"}}}],\"bar\":[{\"error_x\":{\"color\":\"#2a3f5f\"},\"error_y\":{\"color\":\"#2a3f5f\"},\"marker\":{\"line\":{\"color\":\"#E5ECF6\",\"width\":0.5},\"pattern\":{\"fillmode\":\"overlay\",\"size\":10,\"solidity\":0.2}},\"type\":\"bar\"}],\"scattergeo\":[{\"type\":\"scattergeo\",\"marker\":{\"colorbar\":{\"outlinewidth\":0,\"ticks\":\"\"}}}],\"scatterpolar\":[{\"type\":\"scatterpolar\",\"marker\":{\"colorbar\":{\"outlinewidth\":0,\"ticks\":\"\"}}}],\"histogram\":[{\"marker\":{\"pattern\":{\"fillmode\":\"overlay\",\"size\":10,\"solidity\":0.2}},\"type\":\"histogram\"}],\"scattergl\":[{\"type\":\"scattergl\",\"marker\":{\"colorbar\":{\"outlinewidth\":0,\"ticks\":\"\"}}}],\"scatter3d\":[{\"type\":\"scatter3d\",\"line\":{\"colorbar\":{\"outlinewidth\":0,\"ticks\":\"\"}},\"marker\":{\"colorbar\":{\"outlinewidth\":0,\"ticks\":\"\"}}}],\"scattermapbox\":[{\"type\":\"scattermapbox\",\"marker\":{\"colorbar\":{\"outlinewidth\":0,\"ticks\":\"\"}}}],\"scatterternary\":[{\"type\":\"scatterternary\",\"marker\":{\"colorbar\":{\"outlinewidth\":0,\"ticks\":\"\"}}}],\"scattercarpet\":[{\"type\":\"scattercarpet\",\"marker\":{\"colorbar\":{\"outlinewidth\":0,\"ticks\":\"\"}}}],\"carpet\":[{\"aaxis\":{\"endlinecolor\":\"#2a3f5f\",\"gridcolor\":\"white\",\"linecolor\":\"white\",\"minorgridcolor\":\"white\",\"startlinecolor\":\"#2a3f5f\"},\"baxis\":{\"endlinecolor\":\"#2a3f5f\",\"gridcolor\":\"white\",\"linecolor\":\"white\",\"minorgridcolor\":\"white\",\"startlinecolor\":\"#2a3f5f\"},\"type\":\"carpet\"}],\"table\":[{\"cells\":{\"fill\":{\"color\":\"#EBF0F8\"},\"line\":{\"color\":\"white\"}},\"header\":{\"fill\":{\"color\":\"#C8D4E3\"},\"line\":{\"color\":\"white\"}},\"type\":\"table\"}],\"barpolar\":[{\"marker\":{\"line\":{\"color\":\"#E5ECF6\",\"width\":0.5},\"pattern\":{\"fillmode\":\"overlay\",\"size\":10,\"solidity\":0.2}},\"type\":\"barpolar\"}],\"pie\":[{\"automargin\":true,\"type\":\"pie\"}]},\"layout\":{\"autotypenumbers\":\"strict\",\"colorway\":[\"#636efa\",\"#EF553B\",\"#00cc96\",\"#ab63fa\",\"#FFA15A\",\"#19d3f3\",\"#FF6692\",\"#B6E880\",\"#FF97FF\",\"#FECB52\"],\"font\":{\"color\":\"#2a3f5f\"},\"hovermode\":\"closest\",\"hoverlabel\":{\"align\":\"left\"},\"paper_bgcolor\":\"white\",\"plot_bgcolor\":\"#E5ECF6\",\"polar\":{\"bgcolor\":\"#E5ECF6\",\"angularaxis\":{\"gridcolor\":\"white\",\"linecolor\":\"white\",\"ticks\":\"\"},\"radialaxis\":{\"gridcolor\":\"white\",\"linecolor\":\"white\",\"ticks\":\"\"}},\"ternary\":{\"bgcolor\":\"#E5ECF6\",\"aaxis\":{\"gridcolor\":\"white\",\"linecolor\":\"white\",\"ticks\":\"\"},\"baxis\":{\"gridcolor\":\"white\",\"linecolor\":\"white\",\"ticks\":\"\"},\"caxis\":{\"gridcolor\":\"white\",\"linecolor\":\"white\",\"ticks\":\"\"}},\"coloraxis\":{\"colorbar\":{\"outlinewidth\":0,\"ticks\":\"\"}},\"colorscale\":{\"sequential\":[[0.0,\"#0d0887\"],[0.1111111111111111,\"#46039f\"],[0.2222222222222222,\"#7201a8\"],[0.3333333333333333,\"#9c179e\"],[0.4444444444444444,\"#bd3786\"],[0.5555555555555556,\"#d8576b\"],[0.6666666666666666,\"#ed7953\"],[0.7777777777777778,\"#fb9f3a\"],[0.8888888888888888,\"#fdca26\"],[1.0,\"#f0f921\"]],\"sequentialminus\":[[0.0,\"#0d0887\"],[0.1111111111111111,\"#46039f\"],[0.2222222222222222,\"#7201a8\"],[0.3333333333333333,\"#9c179e\"],[0.4444444444444444,\"#bd3786\"],[0.5555555555555556,\"#d8576b\"],[0.6666666666666666,\"#ed7953\"],[0.7777777777777778,\"#fb9f3a\"],[0.8888888888888888,\"#fdca26\"],[1.0,\"#f0f921\"]],\"diverging\":[[0,\"#8e0152\"],[0.1,\"#c51b7d\"],[0.2,\"#de77ae\"],[0.3,\"#f1b6da\"],[0.4,\"#fde0ef\"],[0.5,\"#f7f7f7\"],[0.6,\"#e6f5d0\"],[0.7,\"#b8e186\"],[0.8,\"#7fbc41\"],[0.9,\"#4d9221\"],[1,\"#276419\"]]},\"xaxis\":{\"gridcolor\":\"white\",\"linecolor\":\"white\",\"ticks\":\"\",\"title\":{\"standoff\":15},\"zerolinecolor\":\"white\",\"automargin\":true,\"zerolinewidth\":2},\"yaxis\":{\"gridcolor\":\"white\",\"linecolor\":\"white\",\"ticks\":\"\",\"title\":{\"standoff\":15},\"zerolinecolor\":\"white\",\"automargin\":true,\"zerolinewidth\":2},\"scene\":{\"xaxis\":{\"backgroundcolor\":\"#E5ECF6\",\"gridcolor\":\"white\",\"linecolor\":\"white\",\"showbackground\":true,\"ticks\":\"\",\"zerolinecolor\":\"white\",\"gridwidth\":2},\"yaxis\":{\"backgroundcolor\":\"#E5ECF6\",\"gridcolor\":\"white\",\"linecolor\":\"white\",\"showbackground\":true,\"ticks\":\"\",\"zerolinecolor\":\"white\",\"gridwidth\":2},\"zaxis\":{\"backgroundcolor\":\"#E5ECF6\",\"gridcolor\":\"white\",\"linecolor\":\"white\",\"showbackground\":true,\"ticks\":\"\",\"zerolinecolor\":\"white\",\"gridwidth\":2}},\"shapedefaults\":{\"line\":{\"color\":\"#2a3f5f\"}},\"annotationdefaults\":{\"arrowcolor\":\"#2a3f5f\",\"arrowhead\":0,\"arrowwidth\":1},\"geo\":{\"bgcolor\":\"white\",\"landcolor\":\"#E5ECF6\",\"subunitcolor\":\"white\",\"showland\":true,\"showlakes\":true,\"lakecolor\":\"white\"},\"title\":{\"x\":0.05},\"mapbox\":{\"style\":\"light\"}}},\"xaxis\":{\"anchor\":\"y\",\"domain\":[0.0,1.0],\"title\":{\"text\":\"view_count\"}},\"yaxis\":{\"anchor\":\"x\",\"domain\":[0.0,1.0]},\"legend\":{\"tracegroupgap\":0},\"margin\":{\"t\":60},\"boxmode\":\"group\"},                        {\"responsive\": true}                    ).then(function(){\n",
       "                            \n",
       "var gd = document.getElementById('d06cfd61-67fc-48f8-ba74-be80c65cb124');\n",
       "var x = new MutationObserver(function (mutations, observer) {{\n",
       "        var display = window.getComputedStyle(gd).display;\n",
       "        if (!display || display === 'none') {{\n",
       "            console.log([gd, 'removed!']);\n",
       "            Plotly.purge(gd);\n",
       "            observer.disconnect();\n",
       "        }}\n",
       "}});\n",
       "\n",
       "// Listen for the removal of the full notebook cells\n",
       "var notebookContainer = gd.closest('#notebook-container');\n",
       "if (notebookContainer) {{\n",
       "    x.observe(notebookContainer, {childList: true});\n",
       "}}\n",
       "\n",
       "// Listen for the clearing of the current output cell\n",
       "var outputEl = gd.closest('.output');\n",
       "if (outputEl) {{\n",
       "    x.observe(outputEl, {childList: true});\n",
       "}}\n",
       "\n",
       "                        })                };                });            </script>        </div>"
      ]
     },
     "metadata": {},
     "output_type": "display_data"
    }
   ],
   "source": [
    "************************************************************************************************************\n",
    "*** nfl = pd.read_csv(\"superbowl_ads.csv\") ***\n",
    "*** px.box(nfl, x=\"view_count\") ***\n",
    "************************************************************************************************************"
   ]
  },
  {
   "cell_type": "markdown",
   "id": "748f8d94",
   "metadata": {},
   "source": [
    "### Q6: In terms of representing the `view_count` data, which of the previous plots (histograms and boxplot) do you think most informatively and succinctly characterizes its distribution and why? \n",
    "\n",
    "#### Write a two the three sentences to answer this question in markdown cell below\n",
    "- Compare your response to the answer given in the ***MarkUs*** output"
   ]
  },
  {
   "cell_type": "markdown",
   "id": "16cc8273",
   "metadata": {},
   "source": [
    "> Answer here...\n",
    "\n",
    "***Among the three histograms, the one with about 4 to 8 bins does a good job of streamlining the display of the `view_count` distribution to emphasizing its key characteristic of being right-skewed and unimodal.  The two-bin histogram definitely appears too course to really get a good sense for the shape of the data, but in this regard using about 50 bins may be preferred because this shows how quickly the decay of the `view_count` data actually is. From the histogram with about 50 bins we can see that something like half of the `view_count` are less than 20,000; so, we might expect that the median would be around 20,000 and then the mean would be greater than that due to the long right tail of large values.  The boxplot turns out to be a very nice visualization in this instance since we can see that the 50th percentile (median) of the data is about 35,000, and the shape of the boxplot which shows that the 25th and 75th percentiles are close to 0 and 100,000 respectively, which in conjunction with the median and the whiskers and outliers of the boxplot, strongly suggests the right-skewed and unimodal nature of the `view_count` data.***"
   ]
  },
  {
   "cell_type": "markdown",
   "id": "d8d3a1dc",
   "metadata": {},
   "source": [
    "### Q7: Which of these best describes the shape of the histograms and boxplot above?\n",
    "> Hint: Skewness refers to the measure of asymmetry or lack of symmetry in a distribution of data, where left-skewed data has a longer tail on the left side of the distribution, while right-skewed data has a longer tail on the right side of the distribution  \n",
    "\n",
    "A. Left-Skewed  \n",
    "B. Right-Skewed  \n",
    "C. Multimodal  \n",
    "D. Symmetric"
   ]
  },
  {
   "cell_type": "code",
   "execution_count": 17,
   "id": "3e6f661c",
   "metadata": {},
   "outputs": [],
   "source": [
    "# Q7: your answer will be tested!\n",
    "Q7 = None # Assign either 'A' or 'B' or 'C' or 'D' to `Q7` instead of `None`\n",
    "# E.g., Q7 = 'A'"
   ]
  },
  {
   "cell_type": "markdown",
   "id": "962476a3",
   "metadata": {},
   "source": [
    "### Q8: What is the mean, median and standard deviation of `view_count`?\n",
    "\n",
    "#### Give your answer as a continuous numeric value rounded to a single decimal position\n",
    "\n",
    "> Hint 1: After importing `numpy` as `import numpy as np` round with `np.round(1234.56, 1)` for your submitted answers  \n",
    "> Hint 2: there are several ways to do this, but both `pandas` and `numpy` have can provide the mean, median and standard deviation functionality you're looking for when used like `df.view_count.round(1)` or `np.round(df.view_count,(1))`"
   ]
  },
  {
   "cell_type": "code",
   "execution_count": null,
   "id": "2a3fd02a",
   "metadata": {},
   "outputs": [],
   "source": []
  },
  {
   "cell_type": "code",
   "execution_count": null,
   "id": "aaf694b3",
   "metadata": {},
   "outputs": [],
   "source": []
  },
  {
   "cell_type": "code",
   "execution_count": 21,
   "id": "1e60018b",
   "metadata": {},
   "outputs": [],
   "source": [
    "# Q8: your answer will be tested!\n",
    "view_count_mean = None\n",
    "view_count_median = None\n",
    "view_count_std = None\n",
    "Q8 = (view_count_mean, view_count_median, view_count_std) # Assign a `tuple` of three `float`s to Q8"
   ]
  },
  {
   "cell_type": "code",
   "execution_count": null,
   "id": "ea7eeebf",
   "metadata": {},
   "outputs": [],
   "source": [
    "************************************************************************************************************\n",
    "***for the MarkUs answer let's demonstrate these different ways that this could be done:***\n",
    "***np.round(np.std(nfl.view_count),1),np.round(nfl.view_count.mean(),1), nfl.view_count.median().round(1)***\n",
    "************************************************************************************************************"
   ]
  },
  {
   "cell_type": "markdown",
   "id": "8fe173f7",
   "metadata": {},
   "source": [
    "### Q9: What explains the difference between the mean and the median values observed for the `view_count` variable above?\n",
    "- Choose the best answer from the option below\n",
    "\n",
    "A. Outliers      \n",
    "B. Left-Skewed outliers  \n",
    "C. Means are always greater than medians  \n",
    "D. The large standard deviation  "
   ]
  },
  {
   "cell_type": "code",
   "execution_count": 15,
   "id": "b93f1ef0",
   "metadata": {},
   "outputs": [],
   "source": [
    "# Q9: your answer will be tested!\n",
    "Q9 = None # Assign either 'A' or 'B' or 'C' or 'D' to `Q8` instead of `None`\n",
    "# E.g., Q9 = 'A'"
   ]
  },
  {
   "cell_type": "markdown",
   "id": "440de144",
   "metadata": {},
   "source": [
    "### Q10: Create a *Kernel Density Estimate* (KDE) plot of the $\\log$ of the `view_count` by transforming the  `view_count` column with the `.apply(np.log)` method\n",
    "> Hint 1: Remember to import `plotly.figure_factory`  \n",
    "> Hint 2: Googling \"plotly kernel density\" should be enough to find the \"distplots\" you're looking for  \n",
    "> Hint 3: Overlaying a histogram with a KDE is a great way to make this visualization  \n",
    "> Hint 4: Check for mising `NaN` values  \n",
    "- This will be manually reviewed. "
   ]
  },
  {
   "cell_type": "code",
   "execution_count": null,
   "id": "1f5f7c58",
   "metadata": {},
   "outputs": [],
   "source": [
    "# create the plot in these cells\n"
   ]
  },
  {
   "cell_type": "code",
   "execution_count": null,
   "id": "e1b84dd2",
   "metadata": {},
   "outputs": [],
   "source": []
  },
  {
   "cell_type": "code",
   "execution_count": 44,
   "id": "9d890d49",
   "metadata": {},
   "outputs": [
    {
     "data": {
      "application/vnd.plotly.v1+json": {
       "config": {
        "plotlyServerURL": "https://plot.ly"
       },
       "data": [
        {
         "autobinx": false,
         "histnorm": "probability density",
         "legendgroup": "log_view_count",
         "marker": {
          "color": "rgb(31, 119, 180)"
         },
         "name": "log_view_count",
         "opacity": 0.7,
         "type": "histogram",
         "x": [
          12.06640244894624,
          10.773776229848485,
          11.865763055677705,
          5.288267030694535,
          9.528139343331773,
          10.070526252465564,
          12.625618157846342,
          9.792108964552739,
          10.555422037261998,
          6.661854740545311,
          11.13397569751779,
          8.244071270295786,
          12.126428608376983,
          11.706846157607535,
          13.671387268727276,
          9.103868127465665,
          11.770655933043805,
          8.226573474977114,
          11.198173623395657,
          10.282574461584225,
          10.570496075486378,
          12.618655694220328,
          10.514122311521609,
          10.641321250718478,
          11.142586158837437,
          8.366835309827675,
          11.260867903491375,
          11.64194293515849,
          11.76595397892213,
          8.526945482858915,
          11.355733498448721,
          9.108971877587894,
          7.937731775260108,
          10.057366766948556,
          10.821536737425147,
          5.707110264748875,
          8.207129168071326,
          12.099016248233188,
          9.704975636343445,
          13.41489268301693,
          9.61092693263324,
          12.645755588624512,
          11.115160633488252,
          11.485009412675824,
          8.568646473005153,
          13.26507054356419,
          7.065613363597717,
          10.806470122346543,
          3.044522437723423,
          10.510068711466475,
          11.38152893476156,
          12.086708986346325,
          5.857933154483459,
          10.616878439573116,
          12.831165799464662,
          11.378204794005915,
          9.312355297382911,
          10.63052878474363,
          12.29894348893478,
          12.425954884542012,
          8.811801223938751,
          10.560333753369742,
          8.268731832117737,
          12.699331879755478,
          8.938662873666118,
          11.962203290923924,
          11.014917344914851,
          8.230577217146454,
          8.801017833540714,
          6.669498089857879,
          9.299175085676673,
          4.9126548857360515,
          4.3694478524670215,
          9.574636203046277,
          13.12943829107629,
          11.628902426211202,
          6.810142450115136,
          9.587337416104821,
          11.608272007749775,
          11.648137943777236,
          9.359449794564023,
          6.18826412308259,
          8.491465042843506,
          10.898201219421622,
          11.89927570921871,
          11.31388898899925,
          7.142036574706802,
          5.765191102784844,
          11.302809189024783,
          9.483492392643639,
          12.293758378424073,
          9.49642116306099,
          11.422760028250476,
          4.709530201312334,
          10.594056412081272,
          10.427209658037139,
          11.390136168877607,
          9.49137540170617,
          11.353624880451743,
          11.806982176170209,
          10.159446732791961,
          10.313044278547546,
          9.753187781764911,
          7.535830462798367,
          6.302618975744905,
          13.301780721050893,
          10.217495050155458,
          5.976350909297934,
          11.714951605038518,
          9.740792136877351,
          13.228045041488478,
          13.275213211498539,
          11.372835468791305,
          11.663876746462238,
          8.17413934342947,
          11.052935530906733,
          4.9344739331306915,
          10.11029844922944,
          9.666245076842417,
          10.927304453347292,
          11.790966208822727,
          10.937685756768543,
          12.908281148030554,
          12.081342408858719,
          6.329720905522696,
          12.020357336468088,
          11.46536204803862,
          9.33353098253138,
          10.77968519084384,
          10.450596888379366,
          13.369837329376624,
          10.732017535802774,
          7.165493475060845,
          11.546679339075448,
          10.632026007916341,
          10.836635401476705,
          12.355026990622033,
          9.298809019963791,
          4.5217885770490405,
          9.565704457114814,
          7.286191714702382,
          11.119171512790075,
          9.243581705755984,
          12.375566443977602,
          4.025351690735149,
          13.500228417032202,
          5.46383180502561,
          11.084631755922043,
          5.187385805840755,
          12.08551388611445,
          12.226002715685558,
          10.446973958541667,
          8.769040810858803,
          11.043529650967377,
          10.26976128039413,
          11.439042082978863,
          2.3025850929940455,
          8.648045999834999,
          13.770111437700905,
          5.225746673713201,
          6.249975242259483,
          12.075291752525436,
          12.775675538748658,
          7.91278922069068,
          12.415599914595118,
          3.737669618283368,
          9.685518092495647,
          7.215975002651466,
          11.696879022659306,
          4.828313737302301,
          12.563782054225692,
          10.39074767827941,
          11.14821834933423,
          8.768729817231664,
          6.905753276311464,
          9.967119412780901,
          9.909966518633837,
          13.523600895165405,
          9.174609562020384,
          10.691558474606374,
          8.065579427282092,
          8.065579427282092,
          8.065579427282092,
          8.065579427282092,
          5.087596335232384,
          5.680172609017067,
          13.105481680035812,
          10.589861848808644,
          9.990261401318167,
          12.788684834783488,
          6.894670039433481,
          11.390283142077875,
          8.889170455363413,
          11.304461144625076,
          10.485116408097518,
          10.791728542963526,
          9.834673236535767,
          12.863014761295094,
          8.442685139241176,
          6.905753276311464,
          7.081708586105575,
          10.37633089597424,
          11.621259555169887,
          8.001355025826703,
          9.141526055975822,
          12.584543327239361,
          9.401456476451632,
          12.302709218013948,
          7.29641326877392,
          8.781555458546402,
          11.253403158312304
         ],
         "xaxis": "x",
         "xbins": {
          "end": 13.770111437700905,
          "size": 1,
          "start": 2.3025850929940455
         },
         "yaxis": "y"
        },
        {
         "legendgroup": "log_view_count",
         "marker": {
          "color": "rgb(31, 119, 180)"
         },
         "mode": "lines",
         "name": "log_view_count",
         "showlegend": false,
         "type": "scatter",
         "x": [
          2.3025850929940455,
          2.325520145683459,
          2.3484551983728728,
          2.3713902510622864,
          2.3943253037517005,
          2.417260356441114,
          2.440195409130528,
          2.4631304618199414,
          2.486065514509355,
          2.5090005671987687,
          2.531935619888183,
          2.5548706725775965,
          2.57780572526701,
          2.6007407779564238,
          2.6236758306458374,
          2.646610883335251,
          2.669545936024665,
          2.692480988714079,
          2.7154160414034925,
          2.738351094092906,
          2.7612861467823198,
          2.7842211994717334,
          2.807156252161147,
          2.830091304850561,
          2.853026357539975,
          2.8759614102293884,
          2.898896462918802,
          2.9218315156082157,
          2.94476656829763,
          2.967701620987043,
          2.990636673676457,
          3.013571726365871,
          3.0365067790552844,
          3.059441831744698,
          3.0823768844341117,
          3.105311937123526,
          3.1282469898129395,
          3.151182042502353,
          3.1741170951917668,
          3.1970521478811804,
          3.2199872005705945,
          3.242922253260008,
          3.265857305949422,
          3.2887923586388355,
          3.311727411328249,
          3.3346624640176628,
          3.3575975167070764,
          3.3805325693964905,
          3.4034676220859037,
          3.426402674775318,
          3.4493377274647314,
          3.472272780154145,
          3.495207832843559,
          3.5181428855329724,
          3.5410779382223865,
          3.5640129909117997,
          3.5869480436012138,
          3.6098830962906274,
          3.632818148980041,
          3.655753201669455,
          3.6786882543588684,
          3.7016233070482825,
          3.724558359737696,
          3.7474934124271098,
          3.7704284651165234,
          3.793363517805937,
          3.816298570495351,
          3.8392336231847644,
          3.8621686758741784,
          3.885103728563592,
          3.9080387812530057,
          3.93097383394242,
          3.953908886631833,
          3.976843939321247,
          3.9997789920106603,
          4.022714044700074,
          4.045649097389488,
          4.068584150078902,
          4.091519202768316,
          4.114454255457729,
          4.137389308147143,
          4.160324360836556,
          4.18325941352597,
          4.2061944662153845,
          4.229129518904798,
          4.252064571594212,
          4.274999624283625,
          4.297934676973039,
          4.320869729662453,
          4.343804782351866,
          4.36673983504128,
          4.389674887730694,
          4.412609940420108,
          4.435544993109522,
          4.458480045798935,
          4.481415098488348,
          4.504350151177762,
          4.5272852038671765,
          4.550220256556591,
          4.573155309246004,
          4.596090361935417,
          4.619025414624831,
          4.641960467314245,
          4.664895520003659,
          4.6878305726930725,
          4.710765625382486,
          4.7337006780719,
          4.756635730761314,
          4.779570783450728,
          4.80250583614014,
          4.825440888829554,
          4.8483759415189684,
          4.8713109942083825,
          4.894246046897796,
          4.917181099587209,
          4.940116152276623,
          4.963051204966037,
          4.985986257655451,
          5.008921310344864,
          5.031856363034278,
          5.054791415723692,
          5.077726468413106,
          5.10066152110252,
          5.123596573791933,
          5.146531626481346,
          5.16946667917076,
          5.1924017318601745,
          5.215336784549589,
          5.238271837239001,
          5.261206889928415,
          5.284141942617829,
          5.307076995307243,
          5.330012047996656,
          5.35294710068607,
          5.375882153375484,
          5.398817206064898,
          5.421752258754312,
          5.444687311443725,
          5.467622364133138,
          5.490557416822552,
          5.5134924695119665,
          5.536427522201381,
          5.559362574890794,
          5.582297627580207,
          5.605232680269621,
          5.628167732959035,
          5.651102785648449,
          5.6740378383378625,
          5.696972891027276,
          5.71990794371669,
          5.742842996406104,
          5.765778049095517,
          5.78871310178493,
          5.811648154474344,
          5.8345832071637584,
          5.8575182598531725,
          5.880453312542586,
          5.903388365231999,
          5.926323417921413,
          5.949258470610827,
          5.972193523300241,
          5.995128575989654,
          6.018063628679068,
          6.040998681368482,
          6.063933734057896,
          6.08686878674731,
          6.109803839436723,
          6.132738892126136,
          6.15567394481555,
          6.1786089975049645,
          6.201544050194378,
          6.224479102883791,
          6.247414155573205,
          6.270349208262619,
          6.293284260952033,
          6.316219313641447,
          6.33915436633086,
          6.362089419020274,
          6.385024471709688,
          6.4079595243991,
          6.430894577088514,
          6.453829629777928,
          6.476764682467342,
          6.4996997351567565,
          6.522634787846169,
          6.545569840535583,
          6.568504893224997,
          6.591439945914411,
          6.614374998603825,
          6.6373100512932375,
          6.660245103982652,
          6.683180156672066,
          6.70611520936148,
          6.729050262050894,
          6.751985314740306,
          6.77492036742972,
          6.797855420119134,
          6.820790472808548,
          6.8437255254979625,
          6.866660578187375,
          6.889595630876789,
          6.912530683566203,
          6.935465736255617,
          6.958400788945031,
          6.981335841634445,
          7.004270894323858,
          7.027205947013272,
          7.050140999702686,
          7.0730760523921,
          7.096011105081514,
          7.118946157770926,
          7.14188121046034,
          7.1648162631497545,
          7.187751315839169,
          7.210686368528583,
          7.233621421217995,
          7.256556473907409,
          7.279491526596821,
          7.3024265792862355,
          7.32536163197565,
          7.348296684665064,
          7.371231737354478,
          7.39416679004389,
          7.417101842733304,
          7.440036895422718,
          7.462971948112132,
          7.4859070008015465,
          7.508842053490959,
          7.531777106180373,
          7.554712158869787,
          7.577647211559201,
          7.600582264248615,
          7.6235173169380275,
          7.646452369627442,
          7.669387422316856,
          7.69232247500627,
          7.715257527695684,
          7.738192580385096,
          7.76112763307451,
          7.784062685763924,
          7.806997738453338,
          7.8299327911427525,
          7.852867843832167,
          7.875802896521579,
          7.898737949210993,
          7.921673001900407,
          7.944608054589821,
          7.967543107279235,
          7.990478159968648,
          8.013413212658062,
          8.036348265347476,
          8.05928331803689,
          8.082218370726304,
          8.105153423415716,
          8.12808847610513,
          8.151023528794543,
          8.173958581483957,
          8.196893634173371,
          8.219828686862785,
          8.242763739552199,
          8.265698792241611,
          8.288633844931026,
          8.31156889762044,
          8.334503950309854,
          8.357439002999268,
          8.38037405568868,
          8.403309108378094,
          8.426244161067508,
          8.449179213756922,
          8.472114266446336,
          8.495049319135749,
          8.517984371825163,
          8.540919424514577,
          8.563854477203991,
          8.586789529893405,
          8.60972458258282,
          8.632659635272232,
          8.655594687961646,
          8.67852974065106,
          8.701464793340474,
          8.724399846029888,
          8.7473348987193,
          8.770269951408714,
          8.793205004098128,
          8.816140056787543,
          8.839075109476957,
          8.862010162166369,
          8.884945214855783,
          8.907880267545197,
          8.930815320234611,
          8.953750372924025,
          8.976685425613438,
          8.999620478302852,
          9.022555530992266,
          9.04549058368168,
          9.068425636371092,
          9.091360689060506,
          9.11429574174992,
          9.137230794439333,
          9.160165847128747,
          9.183100899818161,
          9.206035952507575,
          9.228971005196989,
          9.251906057886401,
          9.274841110575816,
          9.29777616326523,
          9.320711215954644,
          9.343646268644058,
          9.36658132133347,
          9.389516374022884,
          9.412451426712298,
          9.435386479401712,
          9.458321532091126,
          9.48125658478054,
          9.504191637469953,
          9.527126690159367,
          9.550061742848781,
          9.572996795538195,
          9.59593184822761,
          9.618866900917022,
          9.641801953606436,
          9.66473700629585,
          9.687672058985264,
          9.710607111674678,
          9.73354216436409,
          9.756477217053504,
          9.779412269742918,
          9.802347322432333,
          9.825282375121747,
          9.848217427811159,
          9.871152480500573,
          9.894087533189987,
          9.917022585879401,
          9.939957638568815,
          9.962892691258228,
          9.985827743947642,
          10.008762796637054,
          10.031697849326468,
          10.054632902015882,
          10.077567954705296,
          10.10050300739471,
          10.123438060084123,
          10.146373112773537,
          10.169308165462951,
          10.192243218152365,
          10.215178270841779,
          10.238113323531191,
          10.261048376220606,
          10.28398342891002,
          10.306918481599434,
          10.329853534288848,
          10.352788586978262,
          10.375723639667674,
          10.398658692357088,
          10.4215937450465,
          10.444528797735915,
          10.467463850425329,
          10.490398903114743,
          10.513333955804155,
          10.53626900849357,
          10.559204061182983,
          10.582139113872397,
          10.605074166561812,
          10.628009219251224,
          10.650944271940638,
          10.673879324630052,
          10.696814377319466,
          10.71974943000888,
          10.742684482698293,
          10.765619535387707,
          10.78855458807712,
          10.811489640766535,
          10.834424693455949,
          10.857359746145361,
          10.880294798834775,
          10.90322985152419,
          10.926164904213604,
          10.949099956903018,
          10.97203500959243,
          10.994970062281844,
          11.017905114971258,
          11.040840167660672,
          11.063775220350086,
          11.086710273039499,
          11.109645325728913,
          11.132580378418327,
          11.155515431107741,
          11.178450483797155,
          11.201385536486567,
          11.224320589175981,
          11.247255641865396,
          11.27019069455481,
          11.293125747244224,
          11.316060799933636,
          11.33899585262305,
          11.361930905312464,
          11.384865958001878,
          11.407801010691292,
          11.430736063380705,
          11.453671116070119,
          11.476606168759533,
          11.499541221448947,
          11.522476274138361,
          11.545411326827775,
          11.568346379517187,
          11.591281432206602,
          11.614216484896016,
          11.63715153758543,
          11.660086590274844,
          11.683021642964256,
          11.70595669565367,
          11.728891748343084,
          11.751826801032498,
          11.774761853721913,
          11.797696906411325,
          11.820631959100739,
          11.843567011790153,
          11.866502064479567,
          11.889437117168981,
          11.912372169858394,
          11.935307222547808,
          11.958242275237222,
          11.981177327926636,
          12.00411238061605,
          12.027047433305462,
          12.049982485994876,
          12.07291753868429,
          12.095852591373704,
          12.118787644063119,
          12.141722696752531,
          12.164657749441945,
          12.187592802131359,
          12.210527854820773,
          12.233462907510186,
          12.256397960199598,
          12.279333012889012,
          12.302268065578426,
          12.32520311826784,
          12.348138170957254,
          12.371073223646667,
          12.39400827633608,
          12.416943329025495,
          12.439878381714909,
          12.462813434404323,
          12.485748487093735,
          12.50868353978315,
          12.531618592472563,
          12.554553645161977,
          12.577488697851392,
          12.600423750540804,
          12.623358803230218,
          12.646293855919632,
          12.669228908609046,
          12.69216396129846,
          12.715099013987873,
          12.738034066677287,
          12.7609691193667,
          12.783904172056115,
          12.806839224745529,
          12.829774277434941,
          12.852709330124355,
          12.87564438281377,
          12.898579435503184,
          12.921514488192598,
          12.94444954088201,
          12.967384593571424,
          12.990319646260838,
          13.013254698950252,
          13.036189751639666,
          13.059124804329079,
          13.082059857018493,
          13.104994909707907,
          13.127929962397321,
          13.150865015086735,
          13.173800067776147,
          13.196735120465561,
          13.219670173154976,
          13.24260522584439,
          13.265540278533804,
          13.288475331223218,
          13.31141038391263,
          13.334345436602044,
          13.357280489291458,
          13.380215541980872,
          13.403150594670286,
          13.426085647359699,
          13.449020700049113,
          13.471955752738527,
          13.494890805427941,
          13.517825858117355,
          13.540760910806767,
          13.563695963496182,
          13.586631016185596,
          13.60956606887501,
          13.632501121564424,
          13.655436174253836,
          13.67837122694325,
          13.701306279632664,
          13.724241332322078,
          13.747176385011493
         ],
         "xaxis": "x",
         "y": [
          0.004848922594728466,
          0.004947804602758614,
          0.005047620680408848,
          0.005148413272252752,
          0.0052502292356090535,
          0.0053531198700433906,
          0.005457140931763824,
          0.00556235263258267,
          0.005668819623168412,
          0.00577661096036249,
          0.0058858000583872725,
          0.005996464623823141,
          0.006108686574283998,
          0.006222551940771402,
          0.006338150753738027,
          0.006455576912940841,
          0.0065749280412133885,
          0.006696305322334167,
          0.006819813323215233,
          0.006945559800680621,
          0.007073655493148706,
          0.007204213897575777,
          0.007337351032060192,
          0.007473185184546857,
          0.007611836648111596,
          0.007753427443342665,
          0.007898081028374231,
          0.008045921997162019,
          0.008197075766626458,
          0.008351668253322423,
          0.008509825540327563,
          0.008671673535073136,
          0.008837337618872926,
          0.009006942288936122,
          0.00918061079368011,
          0.009358464762188571,
          0.009540623828689199,
          0.009727205252953572,
          0.009918323537549857,
          0.010114090042906143,
          0.010314612601169301,
          0.010519995129870573,
          0.010730337246434633,
          0.010945733884594036,
          0.011166274913794896,
          0.011392044762702792,
          0.011623122047940176,
          0.011859579209206382,
          0.012101482151951268,
          0.012348889898790079,
          0.012601854250862219,
          0.012860419460349798,
          0.013124621915381275,
          0.01339448983855294,
          0.013670043000304388,
          0.01395129244838445,
          0.01423824025463986,
          0.014530879280350656,
          0.014829192961323318,
          0.01513315511393474,
          0.015442729763296328,
          0.015757870994679162,
          0.016078522829305514,
          0.0164046191255715,
          0.016736083506717757,
          0.017072829315910924,
          0.01741475959963837,
          0.017761767120250037,
          0.018113734398407737,
          0.01847053378611979,
          0.018832027570951447,
          0.01919806811190553,
          0.01956849800736685,
          0.019943150295395565,
          0.020321848686540175,
          0.020704407829221783,
          0.02109063360761511,
          0.021480323471822563,
          0.02187326680000233,
          0.022269245291974382,
          0.022668033393686064,
          0.02306939875177586,
          0.02347310269732862,
          0.02387890075776886,
          0.024286543195693507,
          0.024695775573298807,
          0.025106339340913855,
          0.025517972448010854,
          0.025930409974925656,
          0.02634338478338922,
          0.02675662818384198,
          0.02716987061738367,
          0.027582842350095695,
          0.027995274177368766,
          0.02840689813577093,
          0.028817448219905496,
          0.02922666110163136,
          0.02963427684895409,
          0.03004003964184479,
          0.030443698482201943,
          0.030845007895147568,
          0.031243728618834843,
          0.0316396282799466,
          0.03203248205208114,
          0.03242207329425129,
          0.03280819416677057,
          0.03319064622185941,
          0.033569240966381746,
          0.03394380039421273,
          0.034314157485843,
          0.03468015667294594,
          0.03504165426576642,
          0.035398518841337864,
          0.03575063159069364,
          0.0360978866234098,
          0.036440191228001635,
          0.036777466086887686,
          0.03710964544484014,
          0.03743667723005152,
          0.03775852312716772,
          0.038075158601863356,
          0.038386572876766174,
          0.03869276885877403,
          0.038993763018044955,
          0.03928958521918227,
          0.03958027850537468,
          0.03986589883649349,
          0.040146514782383125,
          0.04042220717281583,
          0.040693068705808445,
          0.04095920351622146,
          0.04122072670677344,
          0.04147776384380909,
          0.04173045042035321,
          0.0419789312891658,
          0.042223360068682304,
          0.04246389852488022,
          0.04270071593225308,
          0.0429339884171972,
          0.04316389828722437,
          0.043390633349503355,
          0.043614386222302126,
          0.04383535364295545,
          0.044053735776011994,
          0.04426973552522408,
          0.04448355785303449,
          0.0446954091111783,
          0.044905496385965776,
          0.04511402686173346,
          0.04532120720585364,
          0.04552724297857145,
          0.04573233807079636,
          0.04593669417281403,
          0.046140510276699485,
          0.046343982215011174,
          0.04654730223812342,
          0.046750658632314805,
          0.046954235380475794,
          0.04715821186702473,
          0.047362762628338856,
          0.047568057149706675,
          0.047774259709501776,
          0.04798152927095888,
          0.048190019421610546,
          0.04839987836011204,
          0.04861124892985176,
          0.04882426869841106,
          0.04903907008160711,
          0.04925578051052698,
          0.0494745226396401,
          0.049695414593765835,
          0.0499185702513752,
          0.05014409956141821,
          0.05037210889060024,
          0.05060270139778104,
          0.05083597743194009,
          0.051072034949943876,
          0.05131096995017342,
          0.05155287691791128,
          0.05179784927826613,
          0.05204597985231517,
          0.05229736131208361,
          0.052552086629947425,
          0.052810249518053284,
          0.05307194485338304,
          0.053337269084167055,
          0.05360632061345613,
          0.05387920015580606,
          0.0541560110632056,
          0.05443685961658893,
          0.05472185527951797,
          0.05501111091089274,
          0.05530474293385312,
          0.05560287145836517,
          0.055905620355341676,
          0.05621311728052531,
          0.0565254936467604,
          0.0568428845436954,
          0.05716542860438551,
          0.057493267818704154,
          0.05782654729391495,
          0.05816541496320735,
          0.05851002124344028,
          0.058860518643783825,
          0.05921706132737999,
          0.059579804628562015,
          0.059948904528578595,
          0.0603245170931487,
          0.06070679787553453,
          0.061095901289151634,
          0.061491979954035304,
          0.0618951840217539,
          0.06230566048358793,
          0.06272355246699055,
          0.06314899852549637,
          0.0635821319273578,
          0.06402307994825397,
          0.06447196317344112,
          0.06492889481469295,
          0.06539398004730779,
          0.06586731537235468,
          0.0663489880091682,
          0.06683907532290978,
          0.06733764429176897,
          0.06784475101810455,
          0.06836044028750878,
          0.06888474517942926,
          0.06941768673260548,
          0.06995927366817066,
          0.0705095021728379,
          0.07106835574414481,
          0.07163580509926006,
          0.07221180814838501,
          0.07279631003329673,
          0.07338924323109568,
          0.07399052772273743,
          0.07460007122544936,
          0.07521776948767264,
          0.07584350664470896,
          0.07647715563283022,
          0.0771185786591923,
          0.07776762772451334,
          0.07842414519512346,
          0.07908796442067144,
          0.07975891039348726,
          0.080436800445351,
          0.08112144497720626,
          0.08181264821719068,
          0.08251020900222075,
          0.08321392157828722,
          0.08392357641456763,
          0.08463896102645792,
          0.08535986080266289,
          0.08608605983155732,
          0.08681734172214244,
          0.08755349041506837,
          0.08829429097937402,
          0.08903953039080358,
          0.08978899828779714,
          0.09054248770151234,
          0.09129979575651338,
          0.09206072433906456,
          0.09282508073026963,
          0.09359267820162523,
          0.09436333657087585,
          0.09513688271638564,
          0.095913151048569,
          0.09669198393723877,
          0.09747323209404253,
          0.0982567549094535,
          0.09904242074406983,
          0.09983010717423586,
          0.1006197011922505,
          0.10141109936164644,
          0.10220420792822806,
          0.10299894288772714,
          0.10379523001108827,
          0.1045930048285173,
          0.10539221257352163,
          0.10619280808824488,
          0.1069947556914406,
          0.10779802901045148,
          0.10860261077855823,
          0.10940849259903876,
          0.11021567467723163,
          0.11102416552184373,
          0.11183398161665846,
          0.11264514706372038,
          0.11345769319896978,
          0.1142716581812019,
          0.11508708655511353,
          0.11590402878909724,
          0.11672254078833519,
          0.11754268338364514,
          0.11836452179644243,
          0.11918812508009478,
          0.12001356553788978,
          0.12084091811776958,
          0.12167025978396512,
          0.12250166886563953,
          0.12333522438265791,
          0.12417100534862874,
          0.1250090900514116,
          0.12584955531135705,
          0.12669247571764095,
          0.12753792284317542,
          0.12838596443871667,
          0.12923666360694985,
          0.13009007795751812,
          0.1309462587441517,
          0.13180524998527826,
          0.13266708756971557,
          0.1335317983492918,
          0.13439939922048538,
          0.1352698961974288,
          0.13614328347887947,
          0.13701954251201393,
          0.1378986410561533,
          0.13878053224977635,
          0.1396651536844039,
          0.14055242648916716,
          0.14144225443006955,
          0.14233452302814267,
          0.14322909870085374,
          0.14412582793126402,
          0.145024536469543,
          0.14592502857153042,
          0.14682708627907978,
          0.14773046874693802,
          0.14863491162089876,
          0.14954012647191098,
          0.150445800290739,
          0.15135159504764528,
          0.1522571473214078,
          0.15316206800178894,
          0.15406594206934432,
          0.1549683284561985,
          0.1558687599911219,
          0.15676674343191196,
          0.15766175958774703,
          0.15855326353378382,
          0.15944068491988625,
          0.16032342837494512,
          0.16120087400781088,
          0.1620723780054142,
          0.162937273328179,
          0.16379487050237124,
          0.16464445850853887,
          0.16548530576473278,
          0.16631666120271577,
          0.167137755434898,
          0.1679478020092777,
          0.16874599874921078,
          0.16953152917439954,
          0.1703035639990706,
          0.17106126270290858,
          0.17180377516993772,
          0.172530243390186,
          0.17323980321864246,
          0.17393158618571086,
          0.1746047213530983,
          0.1752583372088365,
          0.17589156359491803,
          0.17650353366086619,
          0.1770933858364008,
          0.17766026581626074,
          0.17820332855017088,
          0.1787217402308897,
          0.17921468027327148,
          0.1796813432773023,
          0.1801209409681201,
          0.1805327041061163,
          0.1809158843603453,
          0.18126975613859422,
          0.18159361836766538,
          0.1818867962176021,
          0.1821486427638366,
          0.18237854058146985,
          0.1825759032661847,
          0.18274017687657057,
          0.18287084129296746,
          0.18296741148824977,
          0.18302943870633356,
          0.18305651154453403,
          0.18304825693628746,
          0.18300434103112256,
          0.18292446996916417,
          0.18280839054785147,
          0.18265589077895417,
          0.1824668003343825,
          0.18224099087969745,
          0.18197837629464123,
          0.1816789127804201,
          0.1813425988538799,
          0.1809694752291307,
          0.18055962458757005,
          0.18011317123765774,
          0.17963028066618497,
          0.17911115898316154,
          0.1785560522628159,
          0.17796524578356857,
          0.17733906317018316,
          0.1766778654416408,
          0.17598204996860511,
          0.17525204934464747,
          0.17448833017569923,
          0.17369139179246887,
          0.17286176489081234,
          0.17200001010529323,
          0.17110671652136875,
          0.17018250013184943,
          0.16922800224344312,
          0.16824388783935154,
          0.16723084390401105,
          0.16618957771618234,
          0.16512081511666682,
          0.1640252987569904,
          0.1629037863354266,
          0.1617570488267336,
          0.16058586871197122,
          0.15939103821471048,
          0.15817335754988873,
          0.15693363319146336,
          0.15567267616490704,
          0.1543913003704314,
          0.15309032094267627,
          0.15177055265239608,
          0.15043280835546977,
          0.14907789749432449,
          0.14770662465659906,
          0.14631978819561026,
          0.1449181789168703,
          0.1435025788346056,
          0.14207376000188143,
          0.14063248341760368,
          0.13917949801329133,
          0.13771553972215772,
          0.13624133063263758,
          0.13475757822811452,
          0.13326497471419455,
          0.1317641964344723,
          0.13025590337531578,
          0.12874073875979397,
          0.12721932873044856,
          0.1256922821202092,
          0.12416019031033802,
          0.12262362717389795,
          0.12108314910283283,
          0.11953929511637841,
          0.11799258704814507,
          0.1164435298088557,
          0.11489261172138505,
          0.11334030492441631,
          0.11178706584073146,
          0.11023333570586148,
          0.10867954115256494,
          0.1071260948463629,
          0.10557339616714151,
          0.10402183193165043,
          0.10247177715156326,
          0.10092359582163067,
          0.099377641732362,
          0.09783425930158654,
          0.09629378441921489,
          0.09475654529949619,
          0.09322286333509577,
          0.09169305394735956,
          0.09016742742721434,
          0.08864628976126006,
          0.08712994343775365,
          0.08561868822734776,
          0.08411282193364814,
          0.08261264110887213,
          0.08111844173014497,
          0.0796305198322401,
          0.07814917209286856,
          0.07667469636694003,
          0.07520739216655233,
          0.07374756108382395,
          0.0722955071540528,
          0.07085153715706406,
          0.06941596085500953,
          0.06798909116527488,
          0.06657124426756743,
          0.06516273964465939,
          0.06376390005668389,
          0.06237505144928039,
          0.06099652279630588,
          0.05962864587821346,
          0.05827175499760608,
          0.05692618663383895,
          0.05559227903892144,
          0.05427037177730995,
          0.052960805212521674,
          0.05166391994380358,
          0.05038005619638797,
          0.04910955316912241,
          0.04785274834351225,
          0.04660997675841437,
          0.04538157025481911
         ],
         "yaxis": "y"
        },
        {
         "legendgroup": "log_view_count",
         "marker": {
          "color": "rgb(31, 119, 180)",
          "symbol": "line-ns-open"
         },
         "mode": "markers",
         "name": "log_view_count",
         "showlegend": false,
         "type": "scatter",
         "x": [
          12.06640244894624,
          10.773776229848485,
          11.865763055677705,
          5.288267030694535,
          9.528139343331773,
          10.070526252465564,
          12.625618157846342,
          9.792108964552739,
          10.555422037261998,
          6.661854740545311,
          11.13397569751779,
          8.244071270295786,
          12.126428608376983,
          11.706846157607535,
          13.671387268727276,
          9.103868127465665,
          11.770655933043805,
          8.226573474977114,
          11.198173623395657,
          10.282574461584225,
          10.570496075486378,
          12.618655694220328,
          10.514122311521609,
          10.641321250718478,
          11.142586158837437,
          8.366835309827675,
          11.260867903491375,
          11.64194293515849,
          11.76595397892213,
          8.526945482858915,
          11.355733498448721,
          9.108971877587894,
          7.937731775260108,
          10.057366766948556,
          10.821536737425147,
          5.707110264748875,
          8.207129168071326,
          12.099016248233188,
          9.704975636343445,
          13.41489268301693,
          9.61092693263324,
          12.645755588624512,
          11.115160633488252,
          11.485009412675824,
          8.568646473005153,
          13.26507054356419,
          7.065613363597717,
          10.806470122346543,
          3.044522437723423,
          10.510068711466475,
          11.38152893476156,
          12.086708986346325,
          5.857933154483459,
          10.616878439573116,
          12.831165799464662,
          11.378204794005915,
          9.312355297382911,
          10.63052878474363,
          12.29894348893478,
          12.425954884542012,
          8.811801223938751,
          10.560333753369742,
          8.268731832117737,
          12.699331879755478,
          8.938662873666118,
          11.962203290923924,
          11.014917344914851,
          8.230577217146454,
          8.801017833540714,
          6.669498089857879,
          9.299175085676673,
          4.9126548857360515,
          4.3694478524670215,
          9.574636203046277,
          13.12943829107629,
          11.628902426211202,
          6.810142450115136,
          9.587337416104821,
          11.608272007749775,
          11.648137943777236,
          9.359449794564023,
          6.18826412308259,
          8.491465042843506,
          10.898201219421622,
          11.89927570921871,
          11.31388898899925,
          7.142036574706802,
          5.765191102784844,
          11.302809189024783,
          9.483492392643639,
          12.293758378424073,
          9.49642116306099,
          11.422760028250476,
          4.709530201312334,
          10.594056412081272,
          10.427209658037139,
          11.390136168877607,
          9.49137540170617,
          11.353624880451743,
          11.806982176170209,
          10.159446732791961,
          10.313044278547546,
          9.753187781764911,
          7.535830462798367,
          6.302618975744905,
          13.301780721050893,
          10.217495050155458,
          5.976350909297934,
          11.714951605038518,
          9.740792136877351,
          13.228045041488478,
          13.275213211498539,
          11.372835468791305,
          11.663876746462238,
          8.17413934342947,
          11.052935530906733,
          4.9344739331306915,
          10.11029844922944,
          9.666245076842417,
          10.927304453347292,
          11.790966208822727,
          10.937685756768543,
          12.908281148030554,
          12.081342408858719,
          6.329720905522696,
          12.020357336468088,
          11.46536204803862,
          9.33353098253138,
          10.77968519084384,
          10.450596888379366,
          13.369837329376624,
          10.732017535802774,
          7.165493475060845,
          11.546679339075448,
          10.632026007916341,
          10.836635401476705,
          12.355026990622033,
          9.298809019963791,
          4.5217885770490405,
          9.565704457114814,
          7.286191714702382,
          11.119171512790075,
          9.243581705755984,
          12.375566443977602,
          4.025351690735149,
          13.500228417032202,
          5.46383180502561,
          11.084631755922043,
          5.187385805840755,
          12.08551388611445,
          12.226002715685558,
          10.446973958541667,
          8.769040810858803,
          11.043529650967377,
          10.26976128039413,
          11.439042082978863,
          2.3025850929940455,
          8.648045999834999,
          13.770111437700905,
          5.225746673713201,
          6.249975242259483,
          12.075291752525436,
          12.775675538748658,
          7.91278922069068,
          12.415599914595118,
          3.737669618283368,
          9.685518092495647,
          7.215975002651466,
          11.696879022659306,
          4.828313737302301,
          12.563782054225692,
          10.39074767827941,
          11.14821834933423,
          8.768729817231664,
          6.905753276311464,
          9.967119412780901,
          9.909966518633837,
          13.523600895165405,
          9.174609562020384,
          10.691558474606374,
          8.065579427282092,
          8.065579427282092,
          8.065579427282092,
          8.065579427282092,
          5.087596335232384,
          5.680172609017067,
          13.105481680035812,
          10.589861848808644,
          9.990261401318167,
          12.788684834783488,
          6.894670039433481,
          11.390283142077875,
          8.889170455363413,
          11.304461144625076,
          10.485116408097518,
          10.791728542963526,
          9.834673236535767,
          12.863014761295094,
          8.442685139241176,
          6.905753276311464,
          7.081708586105575,
          10.37633089597424,
          11.621259555169887,
          8.001355025826703,
          9.141526055975822,
          12.584543327239361,
          9.401456476451632,
          12.302709218013948,
          7.29641326877392,
          8.781555458546402,
          11.253403158312304
         ],
         "xaxis": "x",
         "y": [
          "log_view_count",
          "log_view_count",
          "log_view_count",
          "log_view_count",
          "log_view_count",
          "log_view_count",
          "log_view_count",
          "log_view_count",
          "log_view_count",
          "log_view_count",
          "log_view_count",
          "log_view_count",
          "log_view_count",
          "log_view_count",
          "log_view_count",
          "log_view_count",
          "log_view_count",
          "log_view_count",
          "log_view_count",
          "log_view_count",
          "log_view_count",
          "log_view_count",
          "log_view_count",
          "log_view_count",
          "log_view_count",
          "log_view_count",
          "log_view_count",
          "log_view_count",
          "log_view_count",
          "log_view_count",
          "log_view_count",
          "log_view_count",
          "log_view_count",
          "log_view_count",
          "log_view_count",
          "log_view_count",
          "log_view_count",
          "log_view_count",
          "log_view_count",
          "log_view_count",
          "log_view_count",
          "log_view_count",
          "log_view_count",
          "log_view_count",
          "log_view_count",
          "log_view_count",
          "log_view_count",
          "log_view_count",
          "log_view_count",
          "log_view_count",
          "log_view_count",
          "log_view_count",
          "log_view_count",
          "log_view_count",
          "log_view_count",
          "log_view_count",
          "log_view_count",
          "log_view_count",
          "log_view_count",
          "log_view_count",
          "log_view_count",
          "log_view_count",
          "log_view_count",
          "log_view_count",
          "log_view_count",
          "log_view_count",
          "log_view_count",
          "log_view_count",
          "log_view_count",
          "log_view_count",
          "log_view_count",
          "log_view_count",
          "log_view_count",
          "log_view_count",
          "log_view_count",
          "log_view_count",
          "log_view_count",
          "log_view_count",
          "log_view_count",
          "log_view_count",
          "log_view_count",
          "log_view_count",
          "log_view_count",
          "log_view_count",
          "log_view_count",
          "log_view_count",
          "log_view_count",
          "log_view_count",
          "log_view_count",
          "log_view_count",
          "log_view_count",
          "log_view_count",
          "log_view_count",
          "log_view_count",
          "log_view_count",
          "log_view_count",
          "log_view_count",
          "log_view_count",
          "log_view_count",
          "log_view_count",
          "log_view_count",
          "log_view_count",
          "log_view_count",
          "log_view_count",
          "log_view_count",
          "log_view_count",
          "log_view_count",
          "log_view_count",
          "log_view_count",
          "log_view_count",
          "log_view_count",
          "log_view_count",
          "log_view_count",
          "log_view_count",
          "log_view_count",
          "log_view_count",
          "log_view_count",
          "log_view_count",
          "log_view_count",
          "log_view_count",
          "log_view_count",
          "log_view_count",
          "log_view_count",
          "log_view_count",
          "log_view_count",
          "log_view_count",
          "log_view_count",
          "log_view_count",
          "log_view_count",
          "log_view_count",
          "log_view_count",
          "log_view_count",
          "log_view_count",
          "log_view_count",
          "log_view_count",
          "log_view_count",
          "log_view_count",
          "log_view_count",
          "log_view_count",
          "log_view_count",
          "log_view_count",
          "log_view_count",
          "log_view_count",
          "log_view_count",
          "log_view_count",
          "log_view_count",
          "log_view_count",
          "log_view_count",
          "log_view_count",
          "log_view_count",
          "log_view_count",
          "log_view_count",
          "log_view_count",
          "log_view_count",
          "log_view_count",
          "log_view_count",
          "log_view_count",
          "log_view_count",
          "log_view_count",
          "log_view_count",
          "log_view_count",
          "log_view_count",
          "log_view_count",
          "log_view_count",
          "log_view_count",
          "log_view_count",
          "log_view_count",
          "log_view_count",
          "log_view_count",
          "log_view_count",
          "log_view_count",
          "log_view_count",
          "log_view_count",
          "log_view_count",
          "log_view_count",
          "log_view_count",
          "log_view_count",
          "log_view_count",
          "log_view_count",
          "log_view_count",
          "log_view_count",
          "log_view_count",
          "log_view_count",
          "log_view_count",
          "log_view_count",
          "log_view_count",
          "log_view_count",
          "log_view_count",
          "log_view_count",
          "log_view_count",
          "log_view_count",
          "log_view_count",
          "log_view_count",
          "log_view_count",
          "log_view_count",
          "log_view_count",
          "log_view_count",
          "log_view_count",
          "log_view_count",
          "log_view_count",
          "log_view_count",
          "log_view_count",
          "log_view_count",
          "log_view_count",
          "log_view_count",
          "log_view_count",
          "log_view_count",
          "log_view_count",
          "log_view_count",
          "log_view_count",
          "log_view_count"
         ],
         "yaxis": "y2"
        }
       ],
       "layout": {
        "barmode": "overlay",
        "hovermode": "closest",
        "legend": {
         "traceorder": "reversed"
        },
        "template": {
         "data": {
          "bar": [
           {
            "error_x": {
             "color": "#2a3f5f"
            },
            "error_y": {
             "color": "#2a3f5f"
            },
            "marker": {
             "line": {
              "color": "#E5ECF6",
              "width": 0.5
             },
             "pattern": {
              "fillmode": "overlay",
              "size": 10,
              "solidity": 0.2
             }
            },
            "type": "bar"
           }
          ],
          "barpolar": [
           {
            "marker": {
             "line": {
              "color": "#E5ECF6",
              "width": 0.5
             },
             "pattern": {
              "fillmode": "overlay",
              "size": 10,
              "solidity": 0.2
             }
            },
            "type": "barpolar"
           }
          ],
          "carpet": [
           {
            "aaxis": {
             "endlinecolor": "#2a3f5f",
             "gridcolor": "white",
             "linecolor": "white",
             "minorgridcolor": "white",
             "startlinecolor": "#2a3f5f"
            },
            "baxis": {
             "endlinecolor": "#2a3f5f",
             "gridcolor": "white",
             "linecolor": "white",
             "minorgridcolor": "white",
             "startlinecolor": "#2a3f5f"
            },
            "type": "carpet"
           }
          ],
          "choropleth": [
           {
            "colorbar": {
             "outlinewidth": 0,
             "ticks": ""
            },
            "type": "choropleth"
           }
          ],
          "contour": [
           {
            "colorbar": {
             "outlinewidth": 0,
             "ticks": ""
            },
            "colorscale": [
             [
              0,
              "#0d0887"
             ],
             [
              0.1111111111111111,
              "#46039f"
             ],
             [
              0.2222222222222222,
              "#7201a8"
             ],
             [
              0.3333333333333333,
              "#9c179e"
             ],
             [
              0.4444444444444444,
              "#bd3786"
             ],
             [
              0.5555555555555556,
              "#d8576b"
             ],
             [
              0.6666666666666666,
              "#ed7953"
             ],
             [
              0.7777777777777778,
              "#fb9f3a"
             ],
             [
              0.8888888888888888,
              "#fdca26"
             ],
             [
              1,
              "#f0f921"
             ]
            ],
            "type": "contour"
           }
          ],
          "contourcarpet": [
           {
            "colorbar": {
             "outlinewidth": 0,
             "ticks": ""
            },
            "type": "contourcarpet"
           }
          ],
          "heatmap": [
           {
            "colorbar": {
             "outlinewidth": 0,
             "ticks": ""
            },
            "colorscale": [
             [
              0,
              "#0d0887"
             ],
             [
              0.1111111111111111,
              "#46039f"
             ],
             [
              0.2222222222222222,
              "#7201a8"
             ],
             [
              0.3333333333333333,
              "#9c179e"
             ],
             [
              0.4444444444444444,
              "#bd3786"
             ],
             [
              0.5555555555555556,
              "#d8576b"
             ],
             [
              0.6666666666666666,
              "#ed7953"
             ],
             [
              0.7777777777777778,
              "#fb9f3a"
             ],
             [
              0.8888888888888888,
              "#fdca26"
             ],
             [
              1,
              "#f0f921"
             ]
            ],
            "type": "heatmap"
           }
          ],
          "heatmapgl": [
           {
            "colorbar": {
             "outlinewidth": 0,
             "ticks": ""
            },
            "colorscale": [
             [
              0,
              "#0d0887"
             ],
             [
              0.1111111111111111,
              "#46039f"
             ],
             [
              0.2222222222222222,
              "#7201a8"
             ],
             [
              0.3333333333333333,
              "#9c179e"
             ],
             [
              0.4444444444444444,
              "#bd3786"
             ],
             [
              0.5555555555555556,
              "#d8576b"
             ],
             [
              0.6666666666666666,
              "#ed7953"
             ],
             [
              0.7777777777777778,
              "#fb9f3a"
             ],
             [
              0.8888888888888888,
              "#fdca26"
             ],
             [
              1,
              "#f0f921"
             ]
            ],
            "type": "heatmapgl"
           }
          ],
          "histogram": [
           {
            "marker": {
             "pattern": {
              "fillmode": "overlay",
              "size": 10,
              "solidity": 0.2
             }
            },
            "type": "histogram"
           }
          ],
          "histogram2d": [
           {
            "colorbar": {
             "outlinewidth": 0,
             "ticks": ""
            },
            "colorscale": [
             [
              0,
              "#0d0887"
             ],
             [
              0.1111111111111111,
              "#46039f"
             ],
             [
              0.2222222222222222,
              "#7201a8"
             ],
             [
              0.3333333333333333,
              "#9c179e"
             ],
             [
              0.4444444444444444,
              "#bd3786"
             ],
             [
              0.5555555555555556,
              "#d8576b"
             ],
             [
              0.6666666666666666,
              "#ed7953"
             ],
             [
              0.7777777777777778,
              "#fb9f3a"
             ],
             [
              0.8888888888888888,
              "#fdca26"
             ],
             [
              1,
              "#f0f921"
             ]
            ],
            "type": "histogram2d"
           }
          ],
          "histogram2dcontour": [
           {
            "colorbar": {
             "outlinewidth": 0,
             "ticks": ""
            },
            "colorscale": [
             [
              0,
              "#0d0887"
             ],
             [
              0.1111111111111111,
              "#46039f"
             ],
             [
              0.2222222222222222,
              "#7201a8"
             ],
             [
              0.3333333333333333,
              "#9c179e"
             ],
             [
              0.4444444444444444,
              "#bd3786"
             ],
             [
              0.5555555555555556,
              "#d8576b"
             ],
             [
              0.6666666666666666,
              "#ed7953"
             ],
             [
              0.7777777777777778,
              "#fb9f3a"
             ],
             [
              0.8888888888888888,
              "#fdca26"
             ],
             [
              1,
              "#f0f921"
             ]
            ],
            "type": "histogram2dcontour"
           }
          ],
          "mesh3d": [
           {
            "colorbar": {
             "outlinewidth": 0,
             "ticks": ""
            },
            "type": "mesh3d"
           }
          ],
          "parcoords": [
           {
            "line": {
             "colorbar": {
              "outlinewidth": 0,
              "ticks": ""
             }
            },
            "type": "parcoords"
           }
          ],
          "pie": [
           {
            "automargin": true,
            "type": "pie"
           }
          ],
          "scatter": [
           {
            "fillpattern": {
             "fillmode": "overlay",
             "size": 10,
             "solidity": 0.2
            },
            "type": "scatter"
           }
          ],
          "scatter3d": [
           {
            "line": {
             "colorbar": {
              "outlinewidth": 0,
              "ticks": ""
             }
            },
            "marker": {
             "colorbar": {
              "outlinewidth": 0,
              "ticks": ""
             }
            },
            "type": "scatter3d"
           }
          ],
          "scattercarpet": [
           {
            "marker": {
             "colorbar": {
              "outlinewidth": 0,
              "ticks": ""
             }
            },
            "type": "scattercarpet"
           }
          ],
          "scattergeo": [
           {
            "marker": {
             "colorbar": {
              "outlinewidth": 0,
              "ticks": ""
             }
            },
            "type": "scattergeo"
           }
          ],
          "scattergl": [
           {
            "marker": {
             "colorbar": {
              "outlinewidth": 0,
              "ticks": ""
             }
            },
            "type": "scattergl"
           }
          ],
          "scattermapbox": [
           {
            "marker": {
             "colorbar": {
              "outlinewidth": 0,
              "ticks": ""
             }
            },
            "type": "scattermapbox"
           }
          ],
          "scatterpolar": [
           {
            "marker": {
             "colorbar": {
              "outlinewidth": 0,
              "ticks": ""
             }
            },
            "type": "scatterpolar"
           }
          ],
          "scatterpolargl": [
           {
            "marker": {
             "colorbar": {
              "outlinewidth": 0,
              "ticks": ""
             }
            },
            "type": "scatterpolargl"
           }
          ],
          "scatterternary": [
           {
            "marker": {
             "colorbar": {
              "outlinewidth": 0,
              "ticks": ""
             }
            },
            "type": "scatterternary"
           }
          ],
          "surface": [
           {
            "colorbar": {
             "outlinewidth": 0,
             "ticks": ""
            },
            "colorscale": [
             [
              0,
              "#0d0887"
             ],
             [
              0.1111111111111111,
              "#46039f"
             ],
             [
              0.2222222222222222,
              "#7201a8"
             ],
             [
              0.3333333333333333,
              "#9c179e"
             ],
             [
              0.4444444444444444,
              "#bd3786"
             ],
             [
              0.5555555555555556,
              "#d8576b"
             ],
             [
              0.6666666666666666,
              "#ed7953"
             ],
             [
              0.7777777777777778,
              "#fb9f3a"
             ],
             [
              0.8888888888888888,
              "#fdca26"
             ],
             [
              1,
              "#f0f921"
             ]
            ],
            "type": "surface"
           }
          ],
          "table": [
           {
            "cells": {
             "fill": {
              "color": "#EBF0F8"
             },
             "line": {
              "color": "white"
             }
            },
            "header": {
             "fill": {
              "color": "#C8D4E3"
             },
             "line": {
              "color": "white"
             }
            },
            "type": "table"
           }
          ]
         },
         "layout": {
          "annotationdefaults": {
           "arrowcolor": "#2a3f5f",
           "arrowhead": 0,
           "arrowwidth": 1
          },
          "autotypenumbers": "strict",
          "coloraxis": {
           "colorbar": {
            "outlinewidth": 0,
            "ticks": ""
           }
          },
          "colorscale": {
           "diverging": [
            [
             0,
             "#8e0152"
            ],
            [
             0.1,
             "#c51b7d"
            ],
            [
             0.2,
             "#de77ae"
            ],
            [
             0.3,
             "#f1b6da"
            ],
            [
             0.4,
             "#fde0ef"
            ],
            [
             0.5,
             "#f7f7f7"
            ],
            [
             0.6,
             "#e6f5d0"
            ],
            [
             0.7,
             "#b8e186"
            ],
            [
             0.8,
             "#7fbc41"
            ],
            [
             0.9,
             "#4d9221"
            ],
            [
             1,
             "#276419"
            ]
           ],
           "sequential": [
            [
             0,
             "#0d0887"
            ],
            [
             0.1111111111111111,
             "#46039f"
            ],
            [
             0.2222222222222222,
             "#7201a8"
            ],
            [
             0.3333333333333333,
             "#9c179e"
            ],
            [
             0.4444444444444444,
             "#bd3786"
            ],
            [
             0.5555555555555556,
             "#d8576b"
            ],
            [
             0.6666666666666666,
             "#ed7953"
            ],
            [
             0.7777777777777778,
             "#fb9f3a"
            ],
            [
             0.8888888888888888,
             "#fdca26"
            ],
            [
             1,
             "#f0f921"
            ]
           ],
           "sequentialminus": [
            [
             0,
             "#0d0887"
            ],
            [
             0.1111111111111111,
             "#46039f"
            ],
            [
             0.2222222222222222,
             "#7201a8"
            ],
            [
             0.3333333333333333,
             "#9c179e"
            ],
            [
             0.4444444444444444,
             "#bd3786"
            ],
            [
             0.5555555555555556,
             "#d8576b"
            ],
            [
             0.6666666666666666,
             "#ed7953"
            ],
            [
             0.7777777777777778,
             "#fb9f3a"
            ],
            [
             0.8888888888888888,
             "#fdca26"
            ],
            [
             1,
             "#f0f921"
            ]
           ]
          },
          "colorway": [
           "#636efa",
           "#EF553B",
           "#00cc96",
           "#ab63fa",
           "#FFA15A",
           "#19d3f3",
           "#FF6692",
           "#B6E880",
           "#FF97FF",
           "#FECB52"
          ],
          "font": {
           "color": "#2a3f5f"
          },
          "geo": {
           "bgcolor": "white",
           "lakecolor": "white",
           "landcolor": "#E5ECF6",
           "showlakes": true,
           "showland": true,
           "subunitcolor": "white"
          },
          "hoverlabel": {
           "align": "left"
          },
          "hovermode": "closest",
          "mapbox": {
           "style": "light"
          },
          "paper_bgcolor": "white",
          "plot_bgcolor": "#E5ECF6",
          "polar": {
           "angularaxis": {
            "gridcolor": "white",
            "linecolor": "white",
            "ticks": ""
           },
           "bgcolor": "#E5ECF6",
           "radialaxis": {
            "gridcolor": "white",
            "linecolor": "white",
            "ticks": ""
           }
          },
          "scene": {
           "xaxis": {
            "backgroundcolor": "#E5ECF6",
            "gridcolor": "white",
            "gridwidth": 2,
            "linecolor": "white",
            "showbackground": true,
            "ticks": "",
            "zerolinecolor": "white"
           },
           "yaxis": {
            "backgroundcolor": "#E5ECF6",
            "gridcolor": "white",
            "gridwidth": 2,
            "linecolor": "white",
            "showbackground": true,
            "ticks": "",
            "zerolinecolor": "white"
           },
           "zaxis": {
            "backgroundcolor": "#E5ECF6",
            "gridcolor": "white",
            "gridwidth": 2,
            "linecolor": "white",
            "showbackground": true,
            "ticks": "",
            "zerolinecolor": "white"
           }
          },
          "shapedefaults": {
           "line": {
            "color": "#2a3f5f"
           }
          },
          "ternary": {
           "aaxis": {
            "gridcolor": "white",
            "linecolor": "white",
            "ticks": ""
           },
           "baxis": {
            "gridcolor": "white",
            "linecolor": "white",
            "ticks": ""
           },
           "bgcolor": "#E5ECF6",
           "caxis": {
            "gridcolor": "white",
            "linecolor": "white",
            "ticks": ""
           }
          },
          "title": {
           "x": 0.05
          },
          "xaxis": {
           "automargin": true,
           "gridcolor": "white",
           "linecolor": "white",
           "ticks": "",
           "title": {
            "standoff": 15
           },
           "zerolinecolor": "white",
           "zerolinewidth": 2
          },
          "yaxis": {
           "automargin": true,
           "gridcolor": "white",
           "linecolor": "white",
           "ticks": "",
           "title": {
            "standoff": 15
           },
           "zerolinecolor": "white",
           "zerolinewidth": 2
          }
         }
        },
        "xaxis": {
         "anchor": "y2",
         "domain": [
          0,
          1
         ],
         "zeroline": false
        },
        "yaxis": {
         "anchor": "free",
         "domain": [
          0.35,
          1
         ],
         "position": 0
        },
        "yaxis2": {
         "anchor": "x",
         "domain": [
          0,
          0.25
         ],
         "dtick": 1,
         "showticklabels": false
        }
       }
      },
      "text/html": [
       "<div>                            <div id=\"e7ec7d8a-60cd-48d7-a670-f398446d9aab\" class=\"plotly-graph-div\" style=\"height:525px; width:100%;\"></div>            <script type=\"text/javascript\">                require([\"plotly\"], function(Plotly) {                    window.PLOTLYENV=window.PLOTLYENV || {};                                    if (document.getElementById(\"e7ec7d8a-60cd-48d7-a670-f398446d9aab\")) {                    Plotly.newPlot(                        \"e7ec7d8a-60cd-48d7-a670-f398446d9aab\",                        [{\"autobinx\":false,\"histnorm\":\"probability density\",\"legendgroup\":\"log_view_count\",\"marker\":{\"color\":\"rgb(31, 119, 180)\"},\"name\":\"log_view_count\",\"opacity\":0.7,\"x\":[12.06640244894624,10.773776229848485,11.865763055677705,5.288267030694535,9.528139343331773,10.070526252465564,12.625618157846342,9.792108964552739,10.555422037261998,6.661854740545311,11.13397569751779,8.244071270295786,12.126428608376983,11.706846157607535,13.671387268727276,9.103868127465665,11.770655933043805,8.226573474977114,11.198173623395657,10.282574461584225,10.570496075486378,12.618655694220328,10.514122311521609,10.641321250718478,11.142586158837437,8.366835309827675,11.260867903491375,11.64194293515849,11.76595397892213,8.526945482858915,11.355733498448721,9.108971877587894,7.937731775260108,10.057366766948556,10.821536737425147,5.707110264748875,8.207129168071326,12.099016248233188,9.704975636343445,13.41489268301693,9.61092693263324,12.645755588624512,11.115160633488252,11.485009412675824,8.568646473005153,13.26507054356419,7.065613363597717,10.806470122346543,3.044522437723423,10.510068711466475,11.38152893476156,12.086708986346325,5.857933154483459,10.616878439573116,12.831165799464662,11.378204794005915,9.312355297382911,10.63052878474363,12.29894348893478,12.425954884542012,8.811801223938751,10.560333753369742,8.268731832117737,12.699331879755478,8.938662873666118,11.962203290923924,11.014917344914851,8.230577217146454,8.801017833540714,6.669498089857879,9.299175085676673,4.9126548857360515,4.3694478524670215,9.574636203046277,13.12943829107629,11.628902426211202,6.810142450115136,9.587337416104821,11.608272007749775,11.648137943777236,9.359449794564023,6.18826412308259,8.491465042843506,10.898201219421622,11.89927570921871,11.31388898899925,7.142036574706802,5.765191102784844,11.302809189024783,9.483492392643639,12.293758378424073,9.49642116306099,11.422760028250476,4.709530201312334,10.594056412081272,10.427209658037139,11.390136168877607,9.49137540170617,11.353624880451743,11.806982176170209,10.159446732791961,10.313044278547546,9.753187781764911,7.535830462798367,6.302618975744905,13.301780721050893,10.217495050155458,5.976350909297934,11.714951605038518,9.740792136877351,13.228045041488478,13.275213211498539,11.372835468791305,11.663876746462238,8.17413934342947,11.052935530906733,4.9344739331306915,10.11029844922944,9.666245076842417,10.927304453347292,11.790966208822727,10.937685756768543,12.908281148030554,12.081342408858719,6.329720905522696,12.020357336468088,11.46536204803862,9.33353098253138,10.77968519084384,10.450596888379366,13.369837329376624,10.732017535802774,7.165493475060845,11.546679339075448,10.632026007916341,10.836635401476705,12.355026990622033,9.298809019963791,4.5217885770490405,9.565704457114814,7.286191714702382,11.119171512790075,9.243581705755984,12.375566443977602,4.025351690735149,13.500228417032202,5.46383180502561,11.084631755922043,5.187385805840755,12.08551388611445,12.226002715685558,10.446973958541667,8.769040810858803,11.043529650967377,10.26976128039413,11.439042082978863,2.3025850929940455,8.648045999834999,13.770111437700905,5.225746673713201,6.249975242259483,12.075291752525436,12.775675538748658,7.91278922069068,12.415599914595118,3.737669618283368,9.685518092495647,7.215975002651466,11.696879022659306,4.828313737302301,12.563782054225692,10.39074767827941,11.14821834933423,8.768729817231664,6.905753276311464,9.967119412780901,9.909966518633837,13.523600895165405,9.174609562020384,10.691558474606374,8.065579427282092,8.065579427282092,8.065579427282092,8.065579427282092,5.087596335232384,5.680172609017067,13.105481680035812,10.589861848808644,9.990261401318167,12.788684834783488,6.894670039433481,11.390283142077875,8.889170455363413,11.304461144625076,10.485116408097518,10.791728542963526,9.834673236535767,12.863014761295094,8.442685139241176,6.905753276311464,7.081708586105575,10.37633089597424,11.621259555169887,8.001355025826703,9.141526055975822,12.584543327239361,9.401456476451632,12.302709218013948,7.29641326877392,8.781555458546402,11.253403158312304],\"xaxis\":\"x\",\"xbins\":{\"end\":13.770111437700905,\"size\":1.0,\"start\":2.3025850929940455},\"yaxis\":\"y\",\"type\":\"histogram\"},{\"legendgroup\":\"log_view_count\",\"marker\":{\"color\":\"rgb(31, 119, 180)\"},\"mode\":\"lines\",\"name\":\"log_view_count\",\"showlegend\":false,\"x\":[2.3025850929940455,2.325520145683459,2.3484551983728728,2.3713902510622864,2.3943253037517005,2.417260356441114,2.440195409130528,2.4631304618199414,2.486065514509355,2.5090005671987687,2.531935619888183,2.5548706725775965,2.57780572526701,2.6007407779564238,2.6236758306458374,2.646610883335251,2.669545936024665,2.692480988714079,2.7154160414034925,2.738351094092906,2.7612861467823198,2.7842211994717334,2.807156252161147,2.830091304850561,2.853026357539975,2.8759614102293884,2.898896462918802,2.9218315156082157,2.94476656829763,2.967701620987043,2.990636673676457,3.013571726365871,3.0365067790552844,3.059441831744698,3.0823768844341117,3.105311937123526,3.1282469898129395,3.151182042502353,3.1741170951917668,3.1970521478811804,3.2199872005705945,3.242922253260008,3.265857305949422,3.2887923586388355,3.311727411328249,3.3346624640176628,3.3575975167070764,3.3805325693964905,3.4034676220859037,3.426402674775318,3.4493377274647314,3.472272780154145,3.495207832843559,3.5181428855329724,3.5410779382223865,3.5640129909117997,3.5869480436012138,3.6098830962906274,3.632818148980041,3.655753201669455,3.6786882543588684,3.7016233070482825,3.724558359737696,3.7474934124271098,3.7704284651165234,3.793363517805937,3.816298570495351,3.8392336231847644,3.8621686758741784,3.885103728563592,3.9080387812530057,3.93097383394242,3.953908886631833,3.976843939321247,3.9997789920106603,4.022714044700074,4.045649097389488,4.068584150078902,4.091519202768316,4.114454255457729,4.137389308147143,4.160324360836556,4.18325941352597,4.2061944662153845,4.229129518904798,4.252064571594212,4.274999624283625,4.297934676973039,4.320869729662453,4.343804782351866,4.36673983504128,4.389674887730694,4.412609940420108,4.435544993109522,4.458480045798935,4.481415098488348,4.504350151177762,4.5272852038671765,4.550220256556591,4.573155309246004,4.596090361935417,4.619025414624831,4.641960467314245,4.664895520003659,4.6878305726930725,4.710765625382486,4.7337006780719,4.756635730761314,4.779570783450728,4.80250583614014,4.825440888829554,4.8483759415189684,4.8713109942083825,4.894246046897796,4.917181099587209,4.940116152276623,4.963051204966037,4.985986257655451,5.008921310344864,5.031856363034278,5.054791415723692,5.077726468413106,5.10066152110252,5.123596573791933,5.146531626481346,5.16946667917076,5.1924017318601745,5.215336784549589,5.238271837239001,5.261206889928415,5.284141942617829,5.307076995307243,5.330012047996656,5.35294710068607,5.375882153375484,5.398817206064898,5.421752258754312,5.444687311443725,5.467622364133138,5.490557416822552,5.5134924695119665,5.536427522201381,5.559362574890794,5.582297627580207,5.605232680269621,5.628167732959035,5.651102785648449,5.6740378383378625,5.696972891027276,5.71990794371669,5.742842996406104,5.765778049095517,5.78871310178493,5.811648154474344,5.8345832071637584,5.8575182598531725,5.880453312542586,5.903388365231999,5.926323417921413,5.949258470610827,5.972193523300241,5.995128575989654,6.018063628679068,6.040998681368482,6.063933734057896,6.08686878674731,6.109803839436723,6.132738892126136,6.15567394481555,6.1786089975049645,6.201544050194378,6.224479102883791,6.247414155573205,6.270349208262619,6.293284260952033,6.316219313641447,6.33915436633086,6.362089419020274,6.385024471709688,6.4079595243991,6.430894577088514,6.453829629777928,6.476764682467342,6.4996997351567565,6.522634787846169,6.545569840535583,6.568504893224997,6.591439945914411,6.614374998603825,6.6373100512932375,6.660245103982652,6.683180156672066,6.70611520936148,6.729050262050894,6.751985314740306,6.77492036742972,6.797855420119134,6.820790472808548,6.8437255254979625,6.866660578187375,6.889595630876789,6.912530683566203,6.935465736255617,6.958400788945031,6.981335841634445,7.004270894323858,7.027205947013272,7.050140999702686,7.0730760523921,7.096011105081514,7.118946157770926,7.14188121046034,7.1648162631497545,7.187751315839169,7.210686368528583,7.233621421217995,7.256556473907409,7.279491526596821,7.3024265792862355,7.32536163197565,7.348296684665064,7.371231737354478,7.39416679004389,7.417101842733304,7.440036895422718,7.462971948112132,7.4859070008015465,7.508842053490959,7.531777106180373,7.554712158869787,7.577647211559201,7.600582264248615,7.6235173169380275,7.646452369627442,7.669387422316856,7.69232247500627,7.715257527695684,7.738192580385096,7.76112763307451,7.784062685763924,7.806997738453338,7.8299327911427525,7.852867843832167,7.875802896521579,7.898737949210993,7.921673001900407,7.944608054589821,7.967543107279235,7.990478159968648,8.013413212658062,8.036348265347476,8.05928331803689,8.082218370726304,8.105153423415716,8.12808847610513,8.151023528794543,8.173958581483957,8.196893634173371,8.219828686862785,8.242763739552199,8.265698792241611,8.288633844931026,8.31156889762044,8.334503950309854,8.357439002999268,8.38037405568868,8.403309108378094,8.426244161067508,8.449179213756922,8.472114266446336,8.495049319135749,8.517984371825163,8.540919424514577,8.563854477203991,8.586789529893405,8.60972458258282,8.632659635272232,8.655594687961646,8.67852974065106,8.701464793340474,8.724399846029888,8.7473348987193,8.770269951408714,8.793205004098128,8.816140056787543,8.839075109476957,8.862010162166369,8.884945214855783,8.907880267545197,8.930815320234611,8.953750372924025,8.976685425613438,8.999620478302852,9.022555530992266,9.04549058368168,9.068425636371092,9.091360689060506,9.11429574174992,9.137230794439333,9.160165847128747,9.183100899818161,9.206035952507575,9.228971005196989,9.251906057886401,9.274841110575816,9.29777616326523,9.320711215954644,9.343646268644058,9.36658132133347,9.389516374022884,9.412451426712298,9.435386479401712,9.458321532091126,9.48125658478054,9.504191637469953,9.527126690159367,9.550061742848781,9.572996795538195,9.59593184822761,9.618866900917022,9.641801953606436,9.66473700629585,9.687672058985264,9.710607111674678,9.73354216436409,9.756477217053504,9.779412269742918,9.802347322432333,9.825282375121747,9.848217427811159,9.871152480500573,9.894087533189987,9.917022585879401,9.939957638568815,9.962892691258228,9.985827743947642,10.008762796637054,10.031697849326468,10.054632902015882,10.077567954705296,10.10050300739471,10.123438060084123,10.146373112773537,10.169308165462951,10.192243218152365,10.215178270841779,10.238113323531191,10.261048376220606,10.28398342891002,10.306918481599434,10.329853534288848,10.352788586978262,10.375723639667674,10.398658692357088,10.4215937450465,10.444528797735915,10.467463850425329,10.490398903114743,10.513333955804155,10.53626900849357,10.559204061182983,10.582139113872397,10.605074166561812,10.628009219251224,10.650944271940638,10.673879324630052,10.696814377319466,10.71974943000888,10.742684482698293,10.765619535387707,10.78855458807712,10.811489640766535,10.834424693455949,10.857359746145361,10.880294798834775,10.90322985152419,10.926164904213604,10.949099956903018,10.97203500959243,10.994970062281844,11.017905114971258,11.040840167660672,11.063775220350086,11.086710273039499,11.109645325728913,11.132580378418327,11.155515431107741,11.178450483797155,11.201385536486567,11.224320589175981,11.247255641865396,11.27019069455481,11.293125747244224,11.316060799933636,11.33899585262305,11.361930905312464,11.384865958001878,11.407801010691292,11.430736063380705,11.453671116070119,11.476606168759533,11.499541221448947,11.522476274138361,11.545411326827775,11.568346379517187,11.591281432206602,11.614216484896016,11.63715153758543,11.660086590274844,11.683021642964256,11.70595669565367,11.728891748343084,11.751826801032498,11.774761853721913,11.797696906411325,11.820631959100739,11.843567011790153,11.866502064479567,11.889437117168981,11.912372169858394,11.935307222547808,11.958242275237222,11.981177327926636,12.00411238061605,12.027047433305462,12.049982485994876,12.07291753868429,12.095852591373704,12.118787644063119,12.141722696752531,12.164657749441945,12.187592802131359,12.210527854820773,12.233462907510186,12.256397960199598,12.279333012889012,12.302268065578426,12.32520311826784,12.348138170957254,12.371073223646667,12.39400827633608,12.416943329025495,12.439878381714909,12.462813434404323,12.485748487093735,12.50868353978315,12.531618592472563,12.554553645161977,12.577488697851392,12.600423750540804,12.623358803230218,12.646293855919632,12.669228908609046,12.69216396129846,12.715099013987873,12.738034066677287,12.7609691193667,12.783904172056115,12.806839224745529,12.829774277434941,12.852709330124355,12.87564438281377,12.898579435503184,12.921514488192598,12.94444954088201,12.967384593571424,12.990319646260838,13.013254698950252,13.036189751639666,13.059124804329079,13.082059857018493,13.104994909707907,13.127929962397321,13.150865015086735,13.173800067776147,13.196735120465561,13.219670173154976,13.24260522584439,13.265540278533804,13.288475331223218,13.31141038391263,13.334345436602044,13.357280489291458,13.380215541980872,13.403150594670286,13.426085647359699,13.449020700049113,13.471955752738527,13.494890805427941,13.517825858117355,13.540760910806767,13.563695963496182,13.586631016185596,13.60956606887501,13.632501121564424,13.655436174253836,13.67837122694325,13.701306279632664,13.724241332322078,13.747176385011493],\"xaxis\":\"x\",\"y\":[0.004848922594728466,0.004947804602758614,0.005047620680408848,0.005148413272252752,0.0052502292356090535,0.0053531198700433906,0.005457140931763824,0.00556235263258267,0.005668819623168412,0.00577661096036249,0.0058858000583872725,0.005996464623823141,0.006108686574283998,0.006222551940771402,0.006338150753738027,0.006455576912940841,0.0065749280412133885,0.006696305322334167,0.006819813323215233,0.006945559800680621,0.007073655493148706,0.007204213897575777,0.007337351032060192,0.007473185184546857,0.007611836648111596,0.007753427443342665,0.007898081028374231,0.008045921997162019,0.008197075766626458,0.008351668253322423,0.008509825540327563,0.008671673535073136,0.008837337618872926,0.009006942288936122,0.00918061079368011,0.009358464762188571,0.009540623828689199,0.009727205252953572,0.009918323537549857,0.010114090042906143,0.010314612601169301,0.010519995129870573,0.010730337246434633,0.010945733884594036,0.011166274913794896,0.011392044762702792,0.011623122047940176,0.011859579209206382,0.012101482151951268,0.012348889898790079,0.012601854250862219,0.012860419460349798,0.013124621915381275,0.01339448983855294,0.013670043000304388,0.01395129244838445,0.01423824025463986,0.014530879280350656,0.014829192961323318,0.01513315511393474,0.015442729763296328,0.015757870994679162,0.016078522829305514,0.0164046191255715,0.016736083506717757,0.017072829315910924,0.01741475959963837,0.017761767120250037,0.018113734398407737,0.01847053378611979,0.018832027570951447,0.01919806811190553,0.01956849800736685,0.019943150295395565,0.020321848686540175,0.020704407829221783,0.02109063360761511,0.021480323471822563,0.02187326680000233,0.022269245291974382,0.022668033393686064,0.02306939875177586,0.02347310269732862,0.02387890075776886,0.024286543195693507,0.024695775573298807,0.025106339340913855,0.025517972448010854,0.025930409974925656,0.02634338478338922,0.02675662818384198,0.02716987061738367,0.027582842350095695,0.027995274177368766,0.02840689813577093,0.028817448219905496,0.02922666110163136,0.02963427684895409,0.03004003964184479,0.030443698482201943,0.030845007895147568,0.031243728618834843,0.0316396282799466,0.03203248205208114,0.03242207329425129,0.03280819416677057,0.03319064622185941,0.033569240966381746,0.03394380039421273,0.034314157485843,0.03468015667294594,0.03504165426576642,0.035398518841337864,0.03575063159069364,0.0360978866234098,0.036440191228001635,0.036777466086887686,0.03710964544484014,0.03743667723005152,0.03775852312716772,0.038075158601863356,0.038386572876766174,0.03869276885877403,0.038993763018044955,0.03928958521918227,0.03958027850537468,0.03986589883649349,0.040146514782383125,0.04042220717281583,0.040693068705808445,0.04095920351622146,0.04122072670677344,0.04147776384380909,0.04173045042035321,0.0419789312891658,0.042223360068682304,0.04246389852488022,0.04270071593225308,0.0429339884171972,0.04316389828722437,0.043390633349503355,0.043614386222302126,0.04383535364295545,0.044053735776011994,0.04426973552522408,0.04448355785303449,0.0446954091111783,0.044905496385965776,0.04511402686173346,0.04532120720585364,0.04552724297857145,0.04573233807079636,0.04593669417281403,0.046140510276699485,0.046343982215011174,0.04654730223812342,0.046750658632314805,0.046954235380475794,0.04715821186702473,0.047362762628338856,0.047568057149706675,0.047774259709501776,0.04798152927095888,0.048190019421610546,0.04839987836011204,0.04861124892985176,0.04882426869841106,0.04903907008160711,0.04925578051052698,0.0494745226396401,0.049695414593765835,0.0499185702513752,0.05014409956141821,0.05037210889060024,0.05060270139778104,0.05083597743194009,0.051072034949943876,0.05131096995017342,0.05155287691791128,0.05179784927826613,0.05204597985231517,0.05229736131208361,0.052552086629947425,0.052810249518053284,0.05307194485338304,0.053337269084167055,0.05360632061345613,0.05387920015580606,0.0541560110632056,0.05443685961658893,0.05472185527951797,0.05501111091089274,0.05530474293385312,0.05560287145836517,0.055905620355341676,0.05621311728052531,0.0565254936467604,0.0568428845436954,0.05716542860438551,0.057493267818704154,0.05782654729391495,0.05816541496320735,0.05851002124344028,0.058860518643783825,0.05921706132737999,0.059579804628562015,0.059948904528578595,0.0603245170931487,0.06070679787553453,0.061095901289151634,0.061491979954035304,0.0618951840217539,0.06230566048358793,0.06272355246699055,0.06314899852549637,0.0635821319273578,0.06402307994825397,0.06447196317344112,0.06492889481469295,0.06539398004730779,0.06586731537235468,0.0663489880091682,0.06683907532290978,0.06733764429176897,0.06784475101810455,0.06836044028750878,0.06888474517942926,0.06941768673260548,0.06995927366817066,0.0705095021728379,0.07106835574414481,0.07163580509926006,0.07221180814838501,0.07279631003329673,0.07338924323109568,0.07399052772273743,0.07460007122544936,0.07521776948767264,0.07584350664470896,0.07647715563283022,0.0771185786591923,0.07776762772451334,0.07842414519512346,0.07908796442067144,0.07975891039348726,0.080436800445351,0.08112144497720626,0.08181264821719068,0.08251020900222075,0.08321392157828722,0.08392357641456763,0.08463896102645792,0.08535986080266289,0.08608605983155732,0.08681734172214244,0.08755349041506837,0.08829429097937402,0.08903953039080358,0.08978899828779714,0.09054248770151234,0.09129979575651338,0.09206072433906456,0.09282508073026963,0.09359267820162523,0.09436333657087585,0.09513688271638564,0.095913151048569,0.09669198393723877,0.09747323209404253,0.0982567549094535,0.09904242074406983,0.09983010717423586,0.1006197011922505,0.10141109936164644,0.10220420792822806,0.10299894288772714,0.10379523001108827,0.1045930048285173,0.10539221257352163,0.10619280808824488,0.1069947556914406,0.10779802901045148,0.10860261077855823,0.10940849259903876,0.11021567467723163,0.11102416552184373,0.11183398161665846,0.11264514706372038,0.11345769319896978,0.1142716581812019,0.11508708655511353,0.11590402878909724,0.11672254078833519,0.11754268338364514,0.11836452179644243,0.11918812508009478,0.12001356553788978,0.12084091811776958,0.12167025978396512,0.12250166886563953,0.12333522438265791,0.12417100534862874,0.1250090900514116,0.12584955531135705,0.12669247571764095,0.12753792284317542,0.12838596443871667,0.12923666360694985,0.13009007795751812,0.1309462587441517,0.13180524998527826,0.13266708756971557,0.1335317983492918,0.13439939922048538,0.1352698961974288,0.13614328347887947,0.13701954251201393,0.1378986410561533,0.13878053224977635,0.1396651536844039,0.14055242648916716,0.14144225443006955,0.14233452302814267,0.14322909870085374,0.14412582793126402,0.145024536469543,0.14592502857153042,0.14682708627907978,0.14773046874693802,0.14863491162089876,0.14954012647191098,0.150445800290739,0.15135159504764528,0.1522571473214078,0.15316206800178894,0.15406594206934432,0.1549683284561985,0.1558687599911219,0.15676674343191196,0.15766175958774703,0.15855326353378382,0.15944068491988625,0.16032342837494512,0.16120087400781088,0.1620723780054142,0.162937273328179,0.16379487050237124,0.16464445850853887,0.16548530576473278,0.16631666120271577,0.167137755434898,0.1679478020092777,0.16874599874921078,0.16953152917439954,0.1703035639990706,0.17106126270290858,0.17180377516993772,0.172530243390186,0.17323980321864246,0.17393158618571086,0.1746047213530983,0.1752583372088365,0.17589156359491803,0.17650353366086619,0.1770933858364008,0.17766026581626074,0.17820332855017088,0.1787217402308897,0.17921468027327148,0.1796813432773023,0.1801209409681201,0.1805327041061163,0.1809158843603453,0.18126975613859422,0.18159361836766538,0.1818867962176021,0.1821486427638366,0.18237854058146985,0.1825759032661847,0.18274017687657057,0.18287084129296746,0.18296741148824977,0.18302943870633356,0.18305651154453403,0.18304825693628746,0.18300434103112256,0.18292446996916417,0.18280839054785147,0.18265589077895417,0.1824668003343825,0.18224099087969745,0.18197837629464123,0.1816789127804201,0.1813425988538799,0.1809694752291307,0.18055962458757005,0.18011317123765774,0.17963028066618497,0.17911115898316154,0.1785560522628159,0.17796524578356857,0.17733906317018316,0.1766778654416408,0.17598204996860511,0.17525204934464747,0.17448833017569923,0.17369139179246887,0.17286176489081234,0.17200001010529323,0.17110671652136875,0.17018250013184943,0.16922800224344312,0.16824388783935154,0.16723084390401105,0.16618957771618234,0.16512081511666682,0.1640252987569904,0.1629037863354266,0.1617570488267336,0.16058586871197122,0.15939103821471048,0.15817335754988873,0.15693363319146336,0.15567267616490704,0.1543913003704314,0.15309032094267627,0.15177055265239608,0.15043280835546977,0.14907789749432449,0.14770662465659906,0.14631978819561026,0.1449181789168703,0.1435025788346056,0.14207376000188143,0.14063248341760368,0.13917949801329133,0.13771553972215772,0.13624133063263758,0.13475757822811452,0.13326497471419455,0.1317641964344723,0.13025590337531578,0.12874073875979397,0.12721932873044856,0.1256922821202092,0.12416019031033802,0.12262362717389795,0.12108314910283283,0.11953929511637841,0.11799258704814507,0.1164435298088557,0.11489261172138505,0.11334030492441631,0.11178706584073146,0.11023333570586148,0.10867954115256494,0.1071260948463629,0.10557339616714151,0.10402183193165043,0.10247177715156326,0.10092359582163067,0.099377641732362,0.09783425930158654,0.09629378441921489,0.09475654529949619,0.09322286333509577,0.09169305394735956,0.09016742742721434,0.08864628976126006,0.08712994343775365,0.08561868822734776,0.08411282193364814,0.08261264110887213,0.08111844173014497,0.0796305198322401,0.07814917209286856,0.07667469636694003,0.07520739216655233,0.07374756108382395,0.0722955071540528,0.07085153715706406,0.06941596085500953,0.06798909116527488,0.06657124426756743,0.06516273964465939,0.06376390005668389,0.06237505144928039,0.06099652279630588,0.05962864587821346,0.05827175499760608,0.05692618663383895,0.05559227903892144,0.05427037177730995,0.052960805212521674,0.05166391994380358,0.05038005619638797,0.04910955316912241,0.04785274834351225,0.04660997675841437,0.04538157025481911],\"yaxis\":\"y\",\"type\":\"scatter\"},{\"legendgroup\":\"log_view_count\",\"marker\":{\"color\":\"rgb(31, 119, 180)\",\"symbol\":\"line-ns-open\"},\"mode\":\"markers\",\"name\":\"log_view_count\",\"showlegend\":false,\"x\":[12.06640244894624,10.773776229848485,11.865763055677705,5.288267030694535,9.528139343331773,10.070526252465564,12.625618157846342,9.792108964552739,10.555422037261998,6.661854740545311,11.13397569751779,8.244071270295786,12.126428608376983,11.706846157607535,13.671387268727276,9.103868127465665,11.770655933043805,8.226573474977114,11.198173623395657,10.282574461584225,10.570496075486378,12.618655694220328,10.514122311521609,10.641321250718478,11.142586158837437,8.366835309827675,11.260867903491375,11.64194293515849,11.76595397892213,8.526945482858915,11.355733498448721,9.108971877587894,7.937731775260108,10.057366766948556,10.821536737425147,5.707110264748875,8.207129168071326,12.099016248233188,9.704975636343445,13.41489268301693,9.61092693263324,12.645755588624512,11.115160633488252,11.485009412675824,8.568646473005153,13.26507054356419,7.065613363597717,10.806470122346543,3.044522437723423,10.510068711466475,11.38152893476156,12.086708986346325,5.857933154483459,10.616878439573116,12.831165799464662,11.378204794005915,9.312355297382911,10.63052878474363,12.29894348893478,12.425954884542012,8.811801223938751,10.560333753369742,8.268731832117737,12.699331879755478,8.938662873666118,11.962203290923924,11.014917344914851,8.230577217146454,8.801017833540714,6.669498089857879,9.299175085676673,4.9126548857360515,4.3694478524670215,9.574636203046277,13.12943829107629,11.628902426211202,6.810142450115136,9.587337416104821,11.608272007749775,11.648137943777236,9.359449794564023,6.18826412308259,8.491465042843506,10.898201219421622,11.89927570921871,11.31388898899925,7.142036574706802,5.765191102784844,11.302809189024783,9.483492392643639,12.293758378424073,9.49642116306099,11.422760028250476,4.709530201312334,10.594056412081272,10.427209658037139,11.390136168877607,9.49137540170617,11.353624880451743,11.806982176170209,10.159446732791961,10.313044278547546,9.753187781764911,7.535830462798367,6.302618975744905,13.301780721050893,10.217495050155458,5.976350909297934,11.714951605038518,9.740792136877351,13.228045041488478,13.275213211498539,11.372835468791305,11.663876746462238,8.17413934342947,11.052935530906733,4.9344739331306915,10.11029844922944,9.666245076842417,10.927304453347292,11.790966208822727,10.937685756768543,12.908281148030554,12.081342408858719,6.329720905522696,12.020357336468088,11.46536204803862,9.33353098253138,10.77968519084384,10.450596888379366,13.369837329376624,10.732017535802774,7.165493475060845,11.546679339075448,10.632026007916341,10.836635401476705,12.355026990622033,9.298809019963791,4.5217885770490405,9.565704457114814,7.286191714702382,11.119171512790075,9.243581705755984,12.375566443977602,4.025351690735149,13.500228417032202,5.46383180502561,11.084631755922043,5.187385805840755,12.08551388611445,12.226002715685558,10.446973958541667,8.769040810858803,11.043529650967377,10.26976128039413,11.439042082978863,2.3025850929940455,8.648045999834999,13.770111437700905,5.225746673713201,6.249975242259483,12.075291752525436,12.775675538748658,7.91278922069068,12.415599914595118,3.737669618283368,9.685518092495647,7.215975002651466,11.696879022659306,4.828313737302301,12.563782054225692,10.39074767827941,11.14821834933423,8.768729817231664,6.905753276311464,9.967119412780901,9.909966518633837,13.523600895165405,9.174609562020384,10.691558474606374,8.065579427282092,8.065579427282092,8.065579427282092,8.065579427282092,5.087596335232384,5.680172609017067,13.105481680035812,10.589861848808644,9.990261401318167,12.788684834783488,6.894670039433481,11.390283142077875,8.889170455363413,11.304461144625076,10.485116408097518,10.791728542963526,9.834673236535767,12.863014761295094,8.442685139241176,6.905753276311464,7.081708586105575,10.37633089597424,11.621259555169887,8.001355025826703,9.141526055975822,12.584543327239361,9.401456476451632,12.302709218013948,7.29641326877392,8.781555458546402,11.253403158312304],\"xaxis\":\"x\",\"y\":[\"log_view_count\",\"log_view_count\",\"log_view_count\",\"log_view_count\",\"log_view_count\",\"log_view_count\",\"log_view_count\",\"log_view_count\",\"log_view_count\",\"log_view_count\",\"log_view_count\",\"log_view_count\",\"log_view_count\",\"log_view_count\",\"log_view_count\",\"log_view_count\",\"log_view_count\",\"log_view_count\",\"log_view_count\",\"log_view_count\",\"log_view_count\",\"log_view_count\",\"log_view_count\",\"log_view_count\",\"log_view_count\",\"log_view_count\",\"log_view_count\",\"log_view_count\",\"log_view_count\",\"log_view_count\",\"log_view_count\",\"log_view_count\",\"log_view_count\",\"log_view_count\",\"log_view_count\",\"log_view_count\",\"log_view_count\",\"log_view_count\",\"log_view_count\",\"log_view_count\",\"log_view_count\",\"log_view_count\",\"log_view_count\",\"log_view_count\",\"log_view_count\",\"log_view_count\",\"log_view_count\",\"log_view_count\",\"log_view_count\",\"log_view_count\",\"log_view_count\",\"log_view_count\",\"log_view_count\",\"log_view_count\",\"log_view_count\",\"log_view_count\",\"log_view_count\",\"log_view_count\",\"log_view_count\",\"log_view_count\",\"log_view_count\",\"log_view_count\",\"log_view_count\",\"log_view_count\",\"log_view_count\",\"log_view_count\",\"log_view_count\",\"log_view_count\",\"log_view_count\",\"log_view_count\",\"log_view_count\",\"log_view_count\",\"log_view_count\",\"log_view_count\",\"log_view_count\",\"log_view_count\",\"log_view_count\",\"log_view_count\",\"log_view_count\",\"log_view_count\",\"log_view_count\",\"log_view_count\",\"log_view_count\",\"log_view_count\",\"log_view_count\",\"log_view_count\",\"log_view_count\",\"log_view_count\",\"log_view_count\",\"log_view_count\",\"log_view_count\",\"log_view_count\",\"log_view_count\",\"log_view_count\",\"log_view_count\",\"log_view_count\",\"log_view_count\",\"log_view_count\",\"log_view_count\",\"log_view_count\",\"log_view_count\",\"log_view_count\",\"log_view_count\",\"log_view_count\",\"log_view_count\",\"log_view_count\",\"log_view_count\",\"log_view_count\",\"log_view_count\",\"log_view_count\",\"log_view_count\",\"log_view_count\",\"log_view_count\",\"log_view_count\",\"log_view_count\",\"log_view_count\",\"log_view_count\",\"log_view_count\",\"log_view_count\",\"log_view_count\",\"log_view_count\",\"log_view_count\",\"log_view_count\",\"log_view_count\",\"log_view_count\",\"log_view_count\",\"log_view_count\",\"log_view_count\",\"log_view_count\",\"log_view_count\",\"log_view_count\",\"log_view_count\",\"log_view_count\",\"log_view_count\",\"log_view_count\",\"log_view_count\",\"log_view_count\",\"log_view_count\",\"log_view_count\",\"log_view_count\",\"log_view_count\",\"log_view_count\",\"log_view_count\",\"log_view_count\",\"log_view_count\",\"log_view_count\",\"log_view_count\",\"log_view_count\",\"log_view_count\",\"log_view_count\",\"log_view_count\",\"log_view_count\",\"log_view_count\",\"log_view_count\",\"log_view_count\",\"log_view_count\",\"log_view_count\",\"log_view_count\",\"log_view_count\",\"log_view_count\",\"log_view_count\",\"log_view_count\",\"log_view_count\",\"log_view_count\",\"log_view_count\",\"log_view_count\",\"log_view_count\",\"log_view_count\",\"log_view_count\",\"log_view_count\",\"log_view_count\",\"log_view_count\",\"log_view_count\",\"log_view_count\",\"log_view_count\",\"log_view_count\",\"log_view_count\",\"log_view_count\",\"log_view_count\",\"log_view_count\",\"log_view_count\",\"log_view_count\",\"log_view_count\",\"log_view_count\",\"log_view_count\",\"log_view_count\",\"log_view_count\",\"log_view_count\",\"log_view_count\",\"log_view_count\",\"log_view_count\",\"log_view_count\",\"log_view_count\",\"log_view_count\",\"log_view_count\",\"log_view_count\",\"log_view_count\",\"log_view_count\",\"log_view_count\",\"log_view_count\",\"log_view_count\",\"log_view_count\",\"log_view_count\",\"log_view_count\",\"log_view_count\",\"log_view_count\",\"log_view_count\",\"log_view_count\",\"log_view_count\",\"log_view_count\",\"log_view_count\"],\"yaxis\":\"y2\",\"type\":\"scatter\"}],                        {\"barmode\":\"overlay\",\"hovermode\":\"closest\",\"legend\":{\"traceorder\":\"reversed\"},\"xaxis\":{\"anchor\":\"y2\",\"domain\":[0.0,1.0],\"zeroline\":false},\"yaxis\":{\"anchor\":\"free\",\"domain\":[0.35,1],\"position\":0.0},\"yaxis2\":{\"anchor\":\"x\",\"domain\":[0,0.25],\"dtick\":1,\"showticklabels\":false},\"template\":{\"data\":{\"histogram2dcontour\":[{\"type\":\"histogram2dcontour\",\"colorbar\":{\"outlinewidth\":0,\"ticks\":\"\"},\"colorscale\":[[0.0,\"#0d0887\"],[0.1111111111111111,\"#46039f\"],[0.2222222222222222,\"#7201a8\"],[0.3333333333333333,\"#9c179e\"],[0.4444444444444444,\"#bd3786\"],[0.5555555555555556,\"#d8576b\"],[0.6666666666666666,\"#ed7953\"],[0.7777777777777778,\"#fb9f3a\"],[0.8888888888888888,\"#fdca26\"],[1.0,\"#f0f921\"]]}],\"choropleth\":[{\"type\":\"choropleth\",\"colorbar\":{\"outlinewidth\":0,\"ticks\":\"\"}}],\"histogram2d\":[{\"type\":\"histogram2d\",\"colorbar\":{\"outlinewidth\":0,\"ticks\":\"\"},\"colorscale\":[[0.0,\"#0d0887\"],[0.1111111111111111,\"#46039f\"],[0.2222222222222222,\"#7201a8\"],[0.3333333333333333,\"#9c179e\"],[0.4444444444444444,\"#bd3786\"],[0.5555555555555556,\"#d8576b\"],[0.6666666666666666,\"#ed7953\"],[0.7777777777777778,\"#fb9f3a\"],[0.8888888888888888,\"#fdca26\"],[1.0,\"#f0f921\"]]}],\"heatmap\":[{\"type\":\"heatmap\",\"colorbar\":{\"outlinewidth\":0,\"ticks\":\"\"},\"colorscale\":[[0.0,\"#0d0887\"],[0.1111111111111111,\"#46039f\"],[0.2222222222222222,\"#7201a8\"],[0.3333333333333333,\"#9c179e\"],[0.4444444444444444,\"#bd3786\"],[0.5555555555555556,\"#d8576b\"],[0.6666666666666666,\"#ed7953\"],[0.7777777777777778,\"#fb9f3a\"],[0.8888888888888888,\"#fdca26\"],[1.0,\"#f0f921\"]]}],\"heatmapgl\":[{\"type\":\"heatmapgl\",\"colorbar\":{\"outlinewidth\":0,\"ticks\":\"\"},\"colorscale\":[[0.0,\"#0d0887\"],[0.1111111111111111,\"#46039f\"],[0.2222222222222222,\"#7201a8\"],[0.3333333333333333,\"#9c179e\"],[0.4444444444444444,\"#bd3786\"],[0.5555555555555556,\"#d8576b\"],[0.6666666666666666,\"#ed7953\"],[0.7777777777777778,\"#fb9f3a\"],[0.8888888888888888,\"#fdca26\"],[1.0,\"#f0f921\"]]}],\"contourcarpet\":[{\"type\":\"contourcarpet\",\"colorbar\":{\"outlinewidth\":0,\"ticks\":\"\"}}],\"contour\":[{\"type\":\"contour\",\"colorbar\":{\"outlinewidth\":0,\"ticks\":\"\"},\"colorscale\":[[0.0,\"#0d0887\"],[0.1111111111111111,\"#46039f\"],[0.2222222222222222,\"#7201a8\"],[0.3333333333333333,\"#9c179e\"],[0.4444444444444444,\"#bd3786\"],[0.5555555555555556,\"#d8576b\"],[0.6666666666666666,\"#ed7953\"],[0.7777777777777778,\"#fb9f3a\"],[0.8888888888888888,\"#fdca26\"],[1.0,\"#f0f921\"]]}],\"surface\":[{\"type\":\"surface\",\"colorbar\":{\"outlinewidth\":0,\"ticks\":\"\"},\"colorscale\":[[0.0,\"#0d0887\"],[0.1111111111111111,\"#46039f\"],[0.2222222222222222,\"#7201a8\"],[0.3333333333333333,\"#9c179e\"],[0.4444444444444444,\"#bd3786\"],[0.5555555555555556,\"#d8576b\"],[0.6666666666666666,\"#ed7953\"],[0.7777777777777778,\"#fb9f3a\"],[0.8888888888888888,\"#fdca26\"],[1.0,\"#f0f921\"]]}],\"mesh3d\":[{\"type\":\"mesh3d\",\"colorbar\":{\"outlinewidth\":0,\"ticks\":\"\"}}],\"scatter\":[{\"fillpattern\":{\"fillmode\":\"overlay\",\"size\":10,\"solidity\":0.2},\"type\":\"scatter\"}],\"parcoords\":[{\"type\":\"parcoords\",\"line\":{\"colorbar\":{\"outlinewidth\":0,\"ticks\":\"\"}}}],\"scatterpolargl\":[{\"type\":\"scatterpolargl\",\"marker\":{\"colorbar\":{\"outlinewidth\":0,\"ticks\":\"\"}}}],\"bar\":[{\"error_x\":{\"color\":\"#2a3f5f\"},\"error_y\":{\"color\":\"#2a3f5f\"},\"marker\":{\"line\":{\"color\":\"#E5ECF6\",\"width\":0.5},\"pattern\":{\"fillmode\":\"overlay\",\"size\":10,\"solidity\":0.2}},\"type\":\"bar\"}],\"scattergeo\":[{\"type\":\"scattergeo\",\"marker\":{\"colorbar\":{\"outlinewidth\":0,\"ticks\":\"\"}}}],\"scatterpolar\":[{\"type\":\"scatterpolar\",\"marker\":{\"colorbar\":{\"outlinewidth\":0,\"ticks\":\"\"}}}],\"histogram\":[{\"marker\":{\"pattern\":{\"fillmode\":\"overlay\",\"size\":10,\"solidity\":0.2}},\"type\":\"histogram\"}],\"scattergl\":[{\"type\":\"scattergl\",\"marker\":{\"colorbar\":{\"outlinewidth\":0,\"ticks\":\"\"}}}],\"scatter3d\":[{\"type\":\"scatter3d\",\"line\":{\"colorbar\":{\"outlinewidth\":0,\"ticks\":\"\"}},\"marker\":{\"colorbar\":{\"outlinewidth\":0,\"ticks\":\"\"}}}],\"scattermapbox\":[{\"type\":\"scattermapbox\",\"marker\":{\"colorbar\":{\"outlinewidth\":0,\"ticks\":\"\"}}}],\"scatterternary\":[{\"type\":\"scatterternary\",\"marker\":{\"colorbar\":{\"outlinewidth\":0,\"ticks\":\"\"}}}],\"scattercarpet\":[{\"type\":\"scattercarpet\",\"marker\":{\"colorbar\":{\"outlinewidth\":0,\"ticks\":\"\"}}}],\"carpet\":[{\"aaxis\":{\"endlinecolor\":\"#2a3f5f\",\"gridcolor\":\"white\",\"linecolor\":\"white\",\"minorgridcolor\":\"white\",\"startlinecolor\":\"#2a3f5f\"},\"baxis\":{\"endlinecolor\":\"#2a3f5f\",\"gridcolor\":\"white\",\"linecolor\":\"white\",\"minorgridcolor\":\"white\",\"startlinecolor\":\"#2a3f5f\"},\"type\":\"carpet\"}],\"table\":[{\"cells\":{\"fill\":{\"color\":\"#EBF0F8\"},\"line\":{\"color\":\"white\"}},\"header\":{\"fill\":{\"color\":\"#C8D4E3\"},\"line\":{\"color\":\"white\"}},\"type\":\"table\"}],\"barpolar\":[{\"marker\":{\"line\":{\"color\":\"#E5ECF6\",\"width\":0.5},\"pattern\":{\"fillmode\":\"overlay\",\"size\":10,\"solidity\":0.2}},\"type\":\"barpolar\"}],\"pie\":[{\"automargin\":true,\"type\":\"pie\"}]},\"layout\":{\"autotypenumbers\":\"strict\",\"colorway\":[\"#636efa\",\"#EF553B\",\"#00cc96\",\"#ab63fa\",\"#FFA15A\",\"#19d3f3\",\"#FF6692\",\"#B6E880\",\"#FF97FF\",\"#FECB52\"],\"font\":{\"color\":\"#2a3f5f\"},\"hovermode\":\"closest\",\"hoverlabel\":{\"align\":\"left\"},\"paper_bgcolor\":\"white\",\"plot_bgcolor\":\"#E5ECF6\",\"polar\":{\"bgcolor\":\"#E5ECF6\",\"angularaxis\":{\"gridcolor\":\"white\",\"linecolor\":\"white\",\"ticks\":\"\"},\"radialaxis\":{\"gridcolor\":\"white\",\"linecolor\":\"white\",\"ticks\":\"\"}},\"ternary\":{\"bgcolor\":\"#E5ECF6\",\"aaxis\":{\"gridcolor\":\"white\",\"linecolor\":\"white\",\"ticks\":\"\"},\"baxis\":{\"gridcolor\":\"white\",\"linecolor\":\"white\",\"ticks\":\"\"},\"caxis\":{\"gridcolor\":\"white\",\"linecolor\":\"white\",\"ticks\":\"\"}},\"coloraxis\":{\"colorbar\":{\"outlinewidth\":0,\"ticks\":\"\"}},\"colorscale\":{\"sequential\":[[0.0,\"#0d0887\"],[0.1111111111111111,\"#46039f\"],[0.2222222222222222,\"#7201a8\"],[0.3333333333333333,\"#9c179e\"],[0.4444444444444444,\"#bd3786\"],[0.5555555555555556,\"#d8576b\"],[0.6666666666666666,\"#ed7953\"],[0.7777777777777778,\"#fb9f3a\"],[0.8888888888888888,\"#fdca26\"],[1.0,\"#f0f921\"]],\"sequentialminus\":[[0.0,\"#0d0887\"],[0.1111111111111111,\"#46039f\"],[0.2222222222222222,\"#7201a8\"],[0.3333333333333333,\"#9c179e\"],[0.4444444444444444,\"#bd3786\"],[0.5555555555555556,\"#d8576b\"],[0.6666666666666666,\"#ed7953\"],[0.7777777777777778,\"#fb9f3a\"],[0.8888888888888888,\"#fdca26\"],[1.0,\"#f0f921\"]],\"diverging\":[[0,\"#8e0152\"],[0.1,\"#c51b7d\"],[0.2,\"#de77ae\"],[0.3,\"#f1b6da\"],[0.4,\"#fde0ef\"],[0.5,\"#f7f7f7\"],[0.6,\"#e6f5d0\"],[0.7,\"#b8e186\"],[0.8,\"#7fbc41\"],[0.9,\"#4d9221\"],[1,\"#276419\"]]},\"xaxis\":{\"gridcolor\":\"white\",\"linecolor\":\"white\",\"ticks\":\"\",\"title\":{\"standoff\":15},\"zerolinecolor\":\"white\",\"automargin\":true,\"zerolinewidth\":2},\"yaxis\":{\"gridcolor\":\"white\",\"linecolor\":\"white\",\"ticks\":\"\",\"title\":{\"standoff\":15},\"zerolinecolor\":\"white\",\"automargin\":true,\"zerolinewidth\":2},\"scene\":{\"xaxis\":{\"backgroundcolor\":\"#E5ECF6\",\"gridcolor\":\"white\",\"linecolor\":\"white\",\"showbackground\":true,\"ticks\":\"\",\"zerolinecolor\":\"white\",\"gridwidth\":2},\"yaxis\":{\"backgroundcolor\":\"#E5ECF6\",\"gridcolor\":\"white\",\"linecolor\":\"white\",\"showbackground\":true,\"ticks\":\"\",\"zerolinecolor\":\"white\",\"gridwidth\":2},\"zaxis\":{\"backgroundcolor\":\"#E5ECF6\",\"gridcolor\":\"white\",\"linecolor\":\"white\",\"showbackground\":true,\"ticks\":\"\",\"zerolinecolor\":\"white\",\"gridwidth\":2}},\"shapedefaults\":{\"line\":{\"color\":\"#2a3f5f\"}},\"annotationdefaults\":{\"arrowcolor\":\"#2a3f5f\",\"arrowhead\":0,\"arrowwidth\":1},\"geo\":{\"bgcolor\":\"white\",\"landcolor\":\"#E5ECF6\",\"subunitcolor\":\"white\",\"showland\":true,\"showlakes\":true,\"lakecolor\":\"white\"},\"title\":{\"x\":0.05},\"mapbox\":{\"style\":\"light\"}}}},                        {\"responsive\": true}                    ).then(function(){\n",
       "                            \n",
       "var gd = document.getElementById('e7ec7d8a-60cd-48d7-a670-f398446d9aab');\n",
       "var x = new MutationObserver(function (mutations, observer) {{\n",
       "        var display = window.getComputedStyle(gd).display;\n",
       "        if (!display || display === 'none') {{\n",
       "            console.log([gd, 'removed!']);\n",
       "            Plotly.purge(gd);\n",
       "            observer.disconnect();\n",
       "        }}\n",
       "}});\n",
       "\n",
       "// Listen for the removal of the full notebook cells\n",
       "var notebookContainer = gd.closest('#notebook-container');\n",
       "if (notebookContainer) {{\n",
       "    x.observe(notebookContainer, {childList: true});\n",
       "}}\n",
       "\n",
       "// Listen for the clearing of the current output cell\n",
       "var outputEl = gd.closest('.output');\n",
       "if (outputEl) {{\n",
       "    x.observe(outputEl, {childList: true});\n",
       "}}\n",
       "\n",
       "                        })                };                });            </script>        </div>"
      ]
     },
     "metadata": {},
     "output_type": "display_data"
    }
   ],
   "source": [
    "#************************************************************************************************************\n",
    "# my answer for MarkUs; but, I suppose we already have something like this\n",
    "import plotly.figure_factory as ff\n",
    "hist_data = [nfl.view_count.apply(np.log).dropna()]\n",
    "group_labels = ['log_view_count'] \n",
    "ff.create_distplot(hist_data, group_labels)\n",
    "#************************************************************************************************************"
   ]
  },
  {
   "cell_type": "markdown",
   "id": "fc9ea17d",
   "metadata": {},
   "source": [
    "### Q11: Describe what the effect of the $\\log$ transformation is on the by describing how the distribution of the data changes after the $\\log$ tranformation\n",
    "\n",
    "#### Write two to three sentences to answer this question in markdown cell below\n",
    "- Compare your response to the answer given in the ***MarkUs*** output"
   ]
  },
  {
   "cell_type": "markdown",
   "id": "b5f7ec05",
   "metadata": {},
   "source": [
    "> Answer here...\n",
    "\n",
    "\n",
    "***please add an answer here for MarkUs that returns automatically with a default failing test***\n",
    "\n",
    "***The larger the value is the more it gets reduced under the log transformation. In the case of this data the log transformation effect is so strong that the distribution changes from a right-skewed distribution to a left-skewed distribution.  The distribution is now unimodal and hill like, as opposed to just a right-skewed decay distribution. There are not extreme outliers in long tails, but the left-skew is quite strong. We'll need to remember to transform back to the original scale (with `np.exp`) if we want to interpret things on the original `view_count` scale though.***"
   ]
  },
  {
   "cell_type": "markdown",
   "id": "3557792f",
   "metadata": {},
   "source": [
    "### Q12: Demonstrate that as a result of the change in skewness the mean of the $\\log$ of the `view_count` data is now less than its median, and that essentially most (or nearly all) of the data are within 2 (or 3) standard deviations of the mean by computing these values to confirm these statements\n",
    "\n",
    "- Round with `np.round(1234.56, 1)` or similar for your submitted answers"
   ]
  },
  {
   "cell_type": "code",
   "execution_count": null,
   "id": "25c26a17",
   "metadata": {},
   "outputs": [],
   "source": []
  },
  {
   "cell_type": "code",
   "execution_count": null,
   "id": "82b9cf81",
   "metadata": {},
   "outputs": [],
   "source": [
    "# Q11: your answer will be tested!\n",
    "log_view_count_mean = None\n",
    "log_view_count_median = None\n",
    "log_view_count_std = None\n",
    "Q11 = (log_view_count_mean, log_view_count_median, log_view_count_std) \n",
    "# Assign a `tuple` of three `float`s to Q11"
   ]
  },
  {
   "cell_type": "code",
   "execution_count": 41,
   "id": "2b327d23",
   "metadata": {},
   "outputs": [
    {
     "data": {
      "text/plain": [
       "(9.86867248370355, 10.450596888379366, 2.3983626225864794)"
      ]
     },
     "execution_count": 41,
     "metadata": {},
     "output_type": "execute_result"
    }
   ],
   "source": [
    "************************************************************************************************************\n",
    "*** nfl.view_count.apply(np.log).dropna().mean(), nfl.view_count.apply(np.log).dropna().median(), nfl.view_count.apply(np.log).dropna().std() \n",
    "************************************************************************************************************"
   ]
  },
  {
   "cell_type": "markdown",
   "id": "b333de92",
   "metadata": {},
   "source": [
    "### Q13: Construct a plot to visualize the distribution of one of the categorical variables listed below; then, describe the distribution in 1 to 2 sentences\n",
    "\n",
    "> - `show_product_quickly`\n",
    "> - `celebrity`\n",
    "> - `funny`\n",
    "> - `danger`\n",
    "\n",
    "#### Create the plot and write your answer in the code cell and markdown cells below respectively\n",
    "\n",
    "- Compare your figure and response to the answer given in the ***MarkUs*** output "
   ]
  },
  {
   "cell_type": "code",
   "execution_count": null,
   "id": "678bd609",
   "metadata": {},
   "outputs": [],
   "source": [
    "# create the plot in these cells\n"
   ]
  },
  {
   "cell_type": "code",
   "execution_count": null,
   "id": "67159a68",
   "metadata": {},
   "outputs": [],
   "source": []
  },
  {
   "cell_type": "markdown",
   "id": "9f5730bf",
   "metadata": {},
   "source": [
    "> Answer here...\n",
    "\n",
    "***please add an answer here for MarkUs that returns automatically with a default failing test***\n",
    "\n",
    "***We'll need it for all four plots that are possible***"
   ]
  },
  {
   "cell_type": "markdown",
   "id": "2157e96c",
   "metadata": {},
   "source": [
    "### Q14: Construct a plot to visualize the distribution of the `brand` categorical variables; then, in 2 to 3 sentences, describe the distribution and discuss what \"skewness\" might mean in the context of this plot\n",
    "\n",
    "#### Create the plot and write your answer in the code cell and markdown cells below respectively\n",
    "\n",
    "- Compare your figure and response to the answer given in the ***MarkUs*** output "
   ]
  },
  {
   "cell_type": "code",
   "execution_count": null,
   "id": "597c6357",
   "metadata": {},
   "outputs": [],
   "source": [
    "# create the plot in these cells\n"
   ]
  },
  {
   "cell_type": "code",
   "execution_count": null,
   "id": "6737b422",
   "metadata": {},
   "outputs": [],
   "source": []
  },
  {
   "cell_type": "markdown",
   "id": "40b6f266",
   "metadata": {},
   "source": [
    "> Answer here...\n",
    "\n",
    "***please add an answer here for MarkUs that returns automatically with a default failing test***\n",
    "\n",
    "*** <Please provide some additional answer describing the bar plot> ... If we were to consider increasing to decreasing brand prevelence, the notion of skewness could describe how dissimilar the distribution is from \"uniform\" prevelence; and, could describe how imbalanced the prevelence is away from \"uniform\" parity.***"
   ]
  },
  {
   "cell_type": "markdown",
   "id": "08ea357f",
   "metadata": {},
   "source": [
    "### Q15: Construct a set of two boxplots showing visual summaries of the distributions of the `like_count` separted by whether or not ads included a celebrity, specifying meaningful axis labels where appropriate; and, write 3 to 4 sentences comparing these distributions \n",
    "\n",
    "#### Create the plot and write your answer in the code cell and markdown cells below respectively\n",
    "\n",
    "> Hint 1: Use locations, percentiles, spreads, shape, etc. as is helpful for making your descriptions  \n",
    "> Hint 2: This should be a single plot  \n",
    "> Hint 3: By switching the `x` and `y` variables in the parameters, we can get a horizontal boxplot\n",
    "\n",
    "- Compare your figure and response to the answer given in the ***MarkUs*** output "
   ]
  },
  {
   "cell_type": "code",
   "execution_count": null,
   "id": "fa2bfe92",
   "metadata": {},
   "outputs": [],
   "source": [
    "# create the plot in these cells\n"
   ]
  },
  {
   "cell_type": "code",
   "execution_count": null,
   "id": "7724985c",
   "metadata": {},
   "outputs": [],
   "source": []
  },
  {
   "cell_type": "markdown",
   "id": "55e299c7",
   "metadata": {},
   "source": [
    "> Answer here...\n",
    "\n",
    "***please add an answer here for MarkUs that returns automatically with a default failing test***"
   ]
  },
  {
   "cell_type": "markdown",
   "id": "7a35dcd7",
   "metadata": {},
   "source": [
    "### Q16: How many outliers are there for the `like_count` of advertisments that featured a celebrity according as determined by the criterion of a boxplot? \n",
    "> Hint: You can close up on the boxplot by dragging your cursor through the plot"
   ]
  },
  {
   "cell_type": "code",
   "execution_count": null,
   "id": "cee0b9a8",
   "metadata": {},
   "outputs": [],
   "source": [
    "# Q16: your answer will be tested!\n",
    "Q16 = 6 # Assign an integer number such as 18, 36, or 1338\n",
    "# E.g., Q16 = 18 "
   ]
  },
  {
   "cell_type": "code",
   "execution_count": null,
   "id": "e4e774d7",
   "metadata": {},
   "outputs": [],
   "source": []
  },
  {
   "cell_type": "markdown",
   "id": "1e79e879",
   "metadata": {},
   "source": [
    "### Q17: Choose which of histograms, boxplots, and KDEs are your favorite way to represent distributions of data and explain why\n",
    "\n",
    "#### Write two sentences to answer this question in markdown cell below\n",
    "\n",
    "- Your response will be manually reviewed. "
   ]
  },
  {
   "cell_type": "markdown",
   "id": "dc92c6d8",
   "metadata": {},
   "source": [
    "> Answer here...\n",
    "\n"
   ]
  },
  {
   "cell_type": "markdown",
   "id": "4bc60040",
   "metadata": {},
   "source": [
    "### Q18: Construct a plot that shows the relationship between `view_count` and `like_count`\n",
    "> Hint: https://letmegooglethat.com/?q=plotly+scatterplot\n"
   ]
  },
  {
   "cell_type": "code",
   "execution_count": null,
   "id": "b3915dad",
   "metadata": {},
   "outputs": [],
   "source": []
  },
  {
   "cell_type": "code",
   "execution_count": null,
   "id": "684d381d",
   "metadata": {},
   "outputs": [],
   "source": []
  },
  {
   "cell_type": "markdown",
   "id": "f95bb4a6",
   "metadata": {},
   "source": [
    "# Tutorial Preparation\n",
    "\n",
    "Your ***Tutorial Assignment*** this week will consider some different visualizations about the `coffee_ratings.csv` data using `plotly` (ie. histograms, boxplots, bar plots, or scatterplots) to provide some interesting insights about the data. The `coffee_ratings.csv` dataset contains information about various samples of coffee and their ratings.\n",
    "\n",
    "***You will not have enough time to fully complete this assignment in tutorial; so, you may want to explore the data, find some relations between variables, and prepare 2-3 interesting visualizations while you still have the ideas fresh in your mind!***"
   ]
  },
  {
   "cell_type": "code",
   "execution_count": null,
   "id": "7d94a537",
   "metadata": {},
   "outputs": [],
   "source": []
  },
  {
   "cell_type": "code",
   "execution_count": null,
   "id": "3a78a881",
   "metadata": {},
   "outputs": [],
   "source": []
  }
 ],
 "metadata": {
  "kernelspec": {
   "display_name": "Python 3 (ipykernel)",
   "language": "python",
   "name": "python3"
  },
  "language_info": {
   "codemirror_mode": {
    "name": "ipython",
    "version": 3
   },
   "file_extension": ".py",
   "mimetype": "text/x-python",
   "name": "python",
   "nbconvert_exporter": "python",
   "pygments_lexer": "ipython3",
   "version": "3.10.8"
  }
 },
 "nbformat": 4,
 "nbformat_minor": 5
}
