{
 "cells": [
  {
   "attachments": {},
   "cell_type": "markdown",
   "id": "4b0afc16",
   "metadata": {},
   "source": [
    "# Coding Homework 3: [Your Name]\n",
    "\n",
    "The Super Bowl is an annual championship game of the National Football League (NFL) in the United States, drawing massive viewership and cultural significance. Data about the commercials shown during past Super Bowls are available in the \"superbowl_ads.csv\" file.\n",
    "> This data was posted on [github](https://github.com/fivethirtyeight/superbowl-ads#super-bowl-ads) by the data-oriented reporting outlet [FiveThirtyEight](https://github.com/fivethirtyeight) and subsequently featured on [Tidy Tuesday](https://github.com/rfordatascience/tidytuesday/blob/master/data/2021/2021-03-02/readme.md).  For more information see the above links.\n",
    "\n",
    "> TAs will mark this assignment by checking ***MarkUs*** autotests; and, by manually review the written responses to questions `Q1`, `Q3`, `Q6`, `Q7` and `Q9`."
   ]
  },
  {
   "cell_type": "code",
   "execution_count": 1,
   "id": "b3fce169",
   "metadata": {},
   "outputs": [],
   "source": [
    "# Import/Load the \"superbowl_ads.csv\" data"
   ]
  },
  {
   "cell_type": "code",
   "execution_count": null,
   "id": "5c9a45a1",
   "metadata": {},
   "outputs": [],
   "source": []
  },
  {
   "cell_type": "code",
   "execution_count": null,
   "id": "43efb378",
   "metadata": {},
   "outputs": [],
   "source": []
  },
  {
   "cell_type": "code",
   "execution_count": null,
   "id": "a2aae4ad",
   "metadata": {},
   "outputs": [],
   "source": []
  },
  {
   "attachments": {},
   "cell_type": "markdown",
   "id": "3d532ff3",
   "metadata": {},
   "source": [
    "#### Data types can further be split into subtypes, as seen in the graphic below:\n",
    "![](HW3_data_types.JPG)"
   ]
  },
  {
   "attachments": {},
   "cell_type": "markdown",
   "id": "d503e867",
   "metadata": {},
   "source": [
    "### Q0: Which of these best describes the data type of the `brand` variable?\n",
    "A. Nominal Categorical      \n",
    "B. Ordinal Categorical  \n",
    "C. Continuous  \n",
    "D. Binary/Boolean"
   ]
  },
  {
   "cell_type": "code",
   "execution_count": 1,
   "id": "c77778b1",
   "metadata": {},
   "outputs": [],
   "source": [
    "# Q0: your answer will be tested!\n",
    "Q0 = None # Assign either 'A' or 'B' or 'C' or 'D' to `Q0` instead of `None`\n",
    "# E.g., Q0 = 'A'"
   ]
  },
  {
   "cell_type": "code",
   "execution_count": null,
   "id": "ce3d7fdc",
   "metadata": {},
   "outputs": [],
   "source": []
  },
  {
   "attachments": {},
   "cell_type": "markdown",
   "id": "18d10e76",
   "metadata": {},
   "source": [
    "### Q1a: Create 3 histograms to explore the distribution of `view_count`: (i) one with 2 bins, (ii) one with 8 bins, and (iii) one with 50 bins. \n",
    "> Hint: Remember to import `plotly.express`!\n",
    "- This will be manually reviewed. "
   ]
  },
  {
   "cell_type": "code",
   "execution_count": null,
   "id": "804f9d88",
   "metadata": {},
   "outputs": [],
   "source": []
  },
  {
   "cell_type": "code",
   "execution_count": null,
   "id": "9211f336",
   "metadata": {},
   "outputs": [],
   "source": [
    "# (i) create a histogram with 2 bins\n"
   ]
  },
  {
   "cell_type": "code",
   "execution_count": null,
   "id": "34792ae2",
   "metadata": {},
   "outputs": [],
   "source": [
    "# (ii) create a histogram with 8 bins\n"
   ]
  },
  {
   "cell_type": "code",
   "execution_count": null,
   "id": "e6188008",
   "metadata": {},
   "outputs": [],
   "source": [
    "# (iii) create a histogram with 50 bins\n"
   ]
  },
  {
   "attachments": {},
   "cell_type": "markdown",
   "id": "748f8d94",
   "metadata": {},
   "source": [
    "### Q1b: Which of these histograms is most appropriate to describe the distribution of `view_count`? Why? Write a few sentences describing the distribution based on the histogram you chose as most appropriate.\n",
    "Provide your written answer in the markdown cell below.\n",
    "- This will be manually reviewed. "
   ]
  },
  {
   "attachments": {},
   "cell_type": "markdown",
   "id": "16cc8273",
   "metadata": {},
   "source": [
    "> Answer here...\n",
    "\n",
    "\n"
   ]
  },
  {
   "attachments": {},
   "cell_type": "markdown",
   "id": "962476a3",
   "metadata": {},
   "source": [
    "### Q2: What is the mean, median and standard deviation of `view_count`?\n",
    "> - After importing `numpy` as `import numpy as np` you can round with `np.round(1234.56, 1)`"
   ]
  },
  {
   "cell_type": "code",
   "execution_count": null,
   "id": "2a3fd02a",
   "metadata": {},
   "outputs": [],
   "source": []
  },
  {
   "cell_type": "code",
   "execution_count": null,
   "id": "aaf694b3",
   "metadata": {},
   "outputs": [],
   "source": []
  },
  {
   "cell_type": "code",
   "execution_count": null,
   "id": "1e60018b",
   "metadata": {},
   "outputs": [],
   "source": [
    "# Q2: your answer will be tested!\n",
    "view_count_mean = None\n",
    "view_count_median = None\n",
    "view_count_std = None\n",
    "Q2 = (view_count_mean, view_count_median, view_count_std) # Assign a `tuple` of three `float`s to Q2"
   ]
  },
  {
   "cell_type": "code",
   "execution_count": null,
   "id": "68385ad7",
   "metadata": {},
   "outputs": [],
   "source": []
  },
  {
   "attachments": {},
   "cell_type": "markdown",
   "id": "440de144",
   "metadata": {},
   "source": [
    "### Q3: Create a kernel density estimation of `view_count`\n",
    "> Hint 1: Remember to import `plotly.figure_factory`  \n",
    "> Hint 2: Check for `na` values  \n",
    "> Hint 3: To make the plot run faster, create a new column that is `view_count / 100000`\n",
    "- This will be manually reviewed. "
   ]
  },
  {
   "cell_type": "code",
   "execution_count": null,
   "id": "8910ab1d",
   "metadata": {},
   "outputs": [],
   "source": []
  },
  {
   "cell_type": "code",
   "execution_count": null,
   "id": "27e23162",
   "metadata": {},
   "outputs": [],
   "source": []
  },
  {
   "cell_type": "code",
   "execution_count": null,
   "id": "528e4b26",
   "metadata": {},
   "outputs": [],
   "source": []
  },
  {
   "cell_type": "code",
   "execution_count": null,
   "id": "c017299e",
   "metadata": {},
   "outputs": [],
   "source": []
  },
  {
   "attachments": {},
   "cell_type": "markdown",
   "id": "e91d677b",
   "metadata": {},
   "source": [
    "### Q4: Which of these best describes the shape of the above histogram and kernel density estimation?\n",
    "> Hint: Skewness refers to the measure of asymmetry or lack of symmetry in a distribution of data, where left-skewed data has a longer tail on the left side of the distribution, while right-skewed data has a longer tail on the right side of the distribution  \n",
    "\n",
    "A. Left-Skewed  \n",
    "B. Right-Skewed  \n",
    "C. Multimodal  \n",
    "D. Symmetric"
   ]
  },
  {
   "cell_type": "code",
   "execution_count": null,
   "id": "6e501bf2",
   "metadata": {},
   "outputs": [],
   "source": [
    "# Q4: your answer will be tested!\n",
    "Q4 = None # Assign either 'A' or 'B' or 'C' or 'D' to `Q4` instead of `None`\n",
    "# E.g., Q4 = 'A'"
   ]
  },
  {
   "cell_type": "code",
   "execution_count": null,
   "id": "147a58cb",
   "metadata": {},
   "outputs": [],
   "source": []
  },
  {
   "attachments": {},
   "cell_type": "markdown",
   "id": "1a5944e8",
   "metadata": {},
   "source": [
    "### Q5: What are the 25th and 75th percentiles of `view_count`? We use this to find the interquartile range (IQR) which is used to measure the spread of the middle 50% of the data!\n",
    "\n",
    "#### Round your answer to the nearest thousand.\n",
    "> Hint 1: Construct a boxplot of the distribution for `view_count` (https://letmegooglethat.com/?q=plotly+boxplot)   \n",
    "> Hint 2: Hover on the boxplot"
   ]
  },
  {
   "cell_type": "code",
   "execution_count": null,
   "id": "bfed6b6b",
   "metadata": {},
   "outputs": [],
   "source": []
  },
  {
   "cell_type": "code",
   "execution_count": null,
   "id": "df883601",
   "metadata": {},
   "outputs": [],
   "source": [
    "# Q5: your answer will be tested!\n",
    "percentile_25 = None\n",
    "percentile_75 = None\n",
    "IQR = percentile_75 - percentile_25 \n",
    "\n",
    "Q5 = (percentile_25, percentile_75, IQR) # Assign a `tuple` of three `int`s to Q5"
   ]
  },
  {
   "cell_type": "code",
   "execution_count": null,
   "id": "2be930f8",
   "metadata": {},
   "outputs": [],
   "source": []
  },
  {
   "attachments": {},
   "cell_type": "markdown",
   "id": "b333de92",
   "metadata": {},
   "source": [
    "### Q6: Construct a plot to visualize the distribution of one of these categorical variables: `show_product_quickly`, `funny`, `danger`, or `celebrity`"
   ]
  },
  {
   "cell_type": "code",
   "execution_count": null,
   "id": "678bd609",
   "metadata": {},
   "outputs": [],
   "source": []
  },
  {
   "attachments": {},
   "cell_type": "markdown",
   "id": "c9c654a4",
   "metadata": {},
   "source": [
    "#### Describe the distribution in 1-2 sentences\n",
    "Provide your written answer in the markdown cell below.\n",
    "- This will be manually reviewed. "
   ]
  },
  {
   "attachments": {},
   "cell_type": "markdown",
   "id": "9f5730bf",
   "metadata": {},
   "source": [
    "> Answer here..."
   ]
  },
  {
   "attachments": {},
   "cell_type": "markdown",
   "id": "08ea357f",
   "metadata": {},
   "source": [
    "### Q7: Construct a set of two boxplots showing visual summaries of the distribution of the number of likes (`like_count`) for whether ads included a celebrity or not (`celebrity`); make sure to specify meaningful axis labels where appropriate\n",
    "> Hint 1: This should be a single plot  \n",
    "> Hint 2: By switching the `x` and `y` variables in the parameters, we can get a horizontal boxplot"
   ]
  },
  {
   "cell_type": "code",
   "execution_count": null,
   "id": "fa2bfe92",
   "metadata": {},
   "outputs": [],
   "source": []
  },
  {
   "cell_type": "code",
   "execution_count": null,
   "id": "7724985c",
   "metadata": {},
   "outputs": [],
   "source": []
  },
  {
   "attachments": {},
   "cell_type": "markdown",
   "id": "3fd2921d",
   "metadata": {},
   "source": [
    "#### Write 3-4 sentences comparing these distributions.\n",
    "Provide your written answer in the markdown cell below.\n",
    "- This will be manually reviewed. "
   ]
  },
  {
   "attachments": {},
   "cell_type": "markdown",
   "id": "55e299c7",
   "metadata": {},
   "source": [
    "> Answer here..."
   ]
  },
  {
   "attachments": {},
   "cell_type": "markdown",
   "id": "7a35dcd7",
   "metadata": {},
   "source": [
    "### Q8: How many outliers are there for the `like_count` of advertisments that featured a celebrity? \n",
    "> Hint: You can close up on the boxplot by dragging your cursor through the plot"
   ]
  },
  {
   "cell_type": "code",
   "execution_count": null,
   "id": "cee0b9a8",
   "metadata": {},
   "outputs": [],
   "source": [
    "# Q8: your answer will be tested!\n",
    "Q8 = None # Assign an integer number such as 18, 36, or 1338\n",
    "# E.g., Q8 = 18 "
   ]
  },
  {
   "cell_type": "code",
   "execution_count": null,
   "id": "e4e774d7",
   "metadata": {},
   "outputs": [],
   "source": []
  },
  {
   "attachments": {},
   "cell_type": "markdown",
   "id": "4bc60040",
   "metadata": {},
   "source": [
    "### Q9: Construct a plot that shows the relationship between `view_count` and `like_count`\n",
    "> Hint: https://letmegooglethat.com/?q=plotly+scatterplot\n",
    "- This will be manually reviewed. "
   ]
  },
  {
   "cell_type": "code",
   "execution_count": null,
   "id": "b3915dad",
   "metadata": {},
   "outputs": [],
   "source": []
  },
  {
   "attachments": {},
   "cell_type": "markdown",
   "id": "f95bb4a6",
   "metadata": {},
   "source": [
    "# Tutorial Preparation\n",
    "\n",
    "Your ***Tutorial Assignment*** this week will consider some different visualizations about the `coffee_ratings.csv` data using `plotly` (ie. histograms, boxplots, bar plots, or scatterplots) to provide some interesting insights about the data. The `coffee_ratings.csv` dataset contains information about various samples of coffee and their ratings.\n",
    "\n",
    "***You will not have enough time to fully complete this assignment in tutorial; so, you may want to explore the data, find some relations between variables, and prepare 2-3 interesting visualizations while you still have the ideas fresh in your mind!***"
   ]
  },
  {
   "cell_type": "code",
   "execution_count": null,
   "id": "7d94a537",
   "metadata": {},
   "outputs": [],
   "source": []
  },
  {
   "cell_type": "code",
   "execution_count": null,
   "id": "3a78a881",
   "metadata": {},
   "outputs": [],
   "source": []
  }
 ],
 "metadata": {
  "kernelspec": {
   "display_name": "Python 3",
   "language": "python",
   "name": "python3"
  },
  "language_info": {
   "codemirror_mode": {
    "name": "ipython",
    "version": 3
   },
   "file_extension": ".py",
   "mimetype": "text/x-python",
   "name": "python",
   "nbconvert_exporter": "python",
   "pygments_lexer": "ipython3",
   "version": "3.8.8"
  }
 },
 "nbformat": 4,
 "nbformat_minor": 5
}
